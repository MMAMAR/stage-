{
  "nbformat": 4,
  "nbformat_minor": 0,
  "metadata": {
    "colab": {
      "name": "Revnet",
      "provenance": [],
      "collapsed_sections": [],
      "toc_visible": true,
      "authorship_tag": "ABX9TyOdRqmXy9Hz0FYbebOAeNJi",
      "include_colab_link": true
    },
    "kernelspec": {
      "name": "python3",
      "display_name": "Python 3"
    },
    "accelerator": "GPU"
  },
  "cells": [
    {
      "cell_type": "markdown",
      "metadata": {
        "id": "view-in-github",
        "colab_type": "text"
      },
      "source": [
        "<a href=\"https://colab.research.google.com/github/MMAMAR/stage-/blob/master/Revnet.ipynb\" target=\"_parent\"><img src=\"https://colab.research.google.com/assets/colab-badge.svg\" alt=\"Open In Colab\"/></a>"
      ]
    },
    {
      "cell_type": "markdown",
      "metadata": {
        "id": "wCYC2NofVd05",
        "colab_type": "text"
      },
      "source": [
        "## data processing\n"
      ]
    },
    {
      "cell_type": "code",
      "metadata": {
        "id": "1LH0QZ7-p2oZ",
        "colab_type": "code",
        "outputId": "fabfe4c5-35ba-4656-84eb-e7d3c7be98d3",
        "colab": {
          "base_uri": "https://localhost:8080/",
          "height": 196
        }
      },
      "source": [
        "!pip install netCDF4\n",
        "import netCDF4\n",
        "import numpy as np\n",
        "\n",
        "from datetime import datetime,date\n",
        "import matplotlib.pyplot as plt \n",
        "import os"
      ],
      "execution_count": 3,
      "outputs": [
        {
          "output_type": "stream",
          "text": [
            "Collecting netCDF4\n",
            "\u001b[?25l  Downloading https://files.pythonhosted.org/packages/35/4f/d49fe0c65dea4d2ebfdc602d3e3d2a45a172255c151f4497c43f6d94a5f6/netCDF4-1.5.3-cp36-cp36m-manylinux1_x86_64.whl (4.1MB)\n",
            "\u001b[K     |████████████████████████████████| 4.1MB 4.9MB/s \n",
            "\u001b[?25hCollecting cftime\n",
            "\u001b[?25l  Downloading https://files.pythonhosted.org/packages/c3/a7/e32404add6225b1f5a2b9efed6aa5bba918da637c8dd6cf85fe4ad7bfdc4/cftime-1.1.2-cp36-cp36m-manylinux1_x86_64.whl (320kB)\n",
            "\u001b[K     |████████████████████████████████| 327kB 35.8MB/s \n",
            "\u001b[?25hRequirement already satisfied: numpy>=1.7 in /usr/local/lib/python3.6/dist-packages (from netCDF4) (1.18.4)\n",
            "Installing collected packages: cftime, netCDF4\n",
            "Successfully installed cftime-1.1.2 netCDF4-1.5.3\n"
          ],
          "name": "stdout"
        }
      ]
    },
    {
      "cell_type": "code",
      "metadata": {
        "id": "dW9-DMlDDsfC",
        "colab_type": "code",
        "colab": {}
      },
      "source": [
        "#imports\n",
        "import os\n",
        "from netCDF4 import Dataset\n",
        "import matplotlib.pyplot as plt\n",
        "import numpy as np\n",
        "from sklearn.utils import shuffle\n",
        "import torch\n",
        "import torchvision\n",
        "import torchvision.transforms as transforms\n",
        "import torch.nn as nn\n",
        "import torch.nn.functional as F\n",
        "import torch.optim as optim\n",
        "from sklearn.feature_extraction import image\n",
        "from netCDF4 import Dataset\n",
        "import numpy.ma as ma"
      ],
      "execution_count": 0,
      "outputs": []
    },
    {
      "cell_type": "code",
      "metadata": {
        "id": "omcmvRq9qGtD",
        "colab_type": "code",
        "outputId": "51a21f07-8dc1-450d-b477-0b6dbae206f1",
        "colab": {
          "base_uri": "https://localhost:8080/",
          "height": 125
        }
      },
      "source": [
        "from google.colab import drive\n",
        "drive.mount('/content/drive')"
      ],
      "execution_count": 5,
      "outputs": [
        {
          "output_type": "stream",
          "text": [
            "Go to this URL in a browser: https://accounts.google.com/o/oauth2/auth?client_id=947318989803-6bn6qk8qdgf4n4g3pfee6491hc0brc4i.apps.googleusercontent.com&redirect_uri=urn%3aietf%3awg%3aoauth%3a2.0%3aoob&response_type=code&scope=email%20https%3a%2f%2fwww.googleapis.com%2fauth%2fdocs.test%20https%3a%2f%2fwww.googleapis.com%2fauth%2fdrive%20https%3a%2f%2fwww.googleapis.com%2fauth%2fdrive.photos.readonly%20https%3a%2f%2fwww.googleapis.com%2fauth%2fpeopleapi.readonly\n",
            "\n",
            "Enter your authorization code:\n",
            "··········\n",
            "Mounted at /content/drive\n"
          ],
          "name": "stdout"
        }
      ]
    },
    {
      "cell_type": "code",
      "metadata": {
        "id": "3VTkA6ifqwW9",
        "colab_type": "code",
        "colab": {}
      },
      "source": [
        "import pandas as pd\n",
        "import requests"
      ],
      "execution_count": 0,
      "outputs": []
    },
    {
      "cell_type": "code",
      "metadata": {
        "id": "VsTUb3Grq9zm",
        "colab_type": "code",
        "colab": {}
      },
      "source": [
        "import os\n",
        "os.chdir('/content/drive/My Drive')\n",
        "import lap_diffusionMask\n",
        "from scipy import interpolate"
      ],
      "execution_count": 0,
      "outputs": []
    },
    {
      "cell_type": "code",
      "metadata": {
        "id": "7WIJUXdQy3xh",
        "colab_type": "code",
        "colab": {}
      },
      "source": [
        "import scipy.fftpack as fftpack\n",
        "from scipy import ndimage\n",
        "def compute_PSD1D(I):\n",
        "\n",
        "    W = np.reshape(np.hanning(I.shape[0]),(I.shape[0],1)) * np.reshape(np.hanning(I.shape[1]),(I.shape[1],1)).transpose() \n",
        "\n",
        "    F1 = fftpack.fft2( W * I) \n",
        "    F2 = fftpack.fftshift( F1 ) \n",
        "    psd2D = np.abs( F2 )**2\n",
        "    \n",
        "    h  = psd2D.shape[0]\n",
        "    w  = psd2D.shape[1]\n",
        "    wc = w//2\n",
        "    hc = h//2\n",
        "\n",
        "    # create an array of integer radial distances from the center\n",
        "    Y, X = np.ogrid[0:h, 0:w]\n",
        "    r    = np.hypot(X - wc, Y - hc).astype(np.int)\n",
        "\n",
        "    # SUM all psd2D pixels with label 'r' for 0<=r<=wc\n",
        "    # NOTE: this will miss power contributions in 'corners' r>wc\n",
        "    psd1D = ndimage.sum(psd2D, r, index=np.arange(0, wc))\n",
        "\n",
        "    return psd1D\n"
      ],
      "execution_count": 0,
      "outputs": []
    },
    {
      "cell_type": "code",
      "metadata": {
        "id": "8L2DOyMRRDTO",
        "colab_type": "code",
        "outputId": "ef64b77b-cfd1-48a3-c236-91c343b2c940",
        "colab": {
          "base_uri": "https://localhost:8080/",
          "height": 34
        }
      },
      "source": [
        "\n",
        "## test for filtering\n",
        "filename = '/content/drive/My Drive/CMEMSData/global-analysis-forecast-phy-001-024-201901.nc'\n",
        "\n",
        "## field info\n",
        "SSHfieldname     = 'zos'\n",
        "SSTfieldname     = 'thetao'\n",
        "Latfieldname    = 'latitude'\n",
        "Lonfieldname    = 'longitude'\n",
        "Timefieldname   = 'time' \n",
        "\n",
        "        \n",
        "print('..... Open monthly file: '+filename)\n",
        "nc_fid = netCDF4.Dataset(filename,'r')\n",
        "\n",
        "Lats=nc_fid[Latfieldname]\n",
        "Lons=nc_fid[Lonfieldname]\n",
        "sstfield = nc_fid['thetao'][:,0,:,:]\n",
        "sstfield=sstfield[0]\n",
        "sstfield=sstfield.reshape(241,601)\n",
        "Lats=Lats[0:50]\n",
        "Lons=Lons[0:50]"
      ],
      "execution_count": 9,
      "outputs": [
        {
          "output_type": "stream",
          "text": [
            "..... Open monthly file: /content/drive/My Drive/CMEMSData/global-analysis-forecast-phy-001-024-201901.nc\n"
          ],
          "name": "stdout"
        }
      ]
    },
    {
      "cell_type": "code",
      "metadata": {
        "id": "-_TAYbWoCglo",
        "colab_type": "code",
        "outputId": "7acab5da-3840-45da-8632-5a58b9d7954f",
        "colab": {
          "base_uri": "https://localhost:8080/",
          "height": 266
        }
      },
      "source": [
        "from sklearn.feature_extraction import image\n",
        "X_patches=image.extract_patches_2d(sstfield, (50, 50), max_patches= 100, random_state=0)\n",
        "Mask_patches=image.extract_patches_2d(sstfield.mask, (50, 50), max_patches= 100, random_state=0)\n",
        "\n",
        "x_train=[]\n",
        "maskes=[]\n",
        "\n",
        "for i in range(len(X_patches)):\n",
        "  if np.sum(Mask_patches[i]==True)==0:\n",
        "    x_train.append(X_patches[i])\n",
        "    maskes.append(Mask_patches[i])\n",
        "\n",
        "plt.figure()\n",
        "plt.imshow(x_train[0])\n",
        "plt.show()\n",
        "\n",
        "sstfield=x_train[0]"
      ],
      "execution_count": 10,
      "outputs": [
        {
          "output_type": "display_data",
          "data": {
            "image/png": "[encoded data removed]",
            "text/plain": [
              "<Figure size 432x288 with 1 Axes>"
            ]
          },
          "metadata": {
            "tags": [],
            "needs_background": "light"
          }
        }
      ]
    },
    {
      "cell_type": "code",
      "metadata": {
        "id": "O1WVEXprf_nj",
        "colab_type": "code",
        "outputId": "8b62eff8-e7b2-49b4-c60f-e7ec1e05c125",
        "colab": {
          "base_uri": "https://localhost:8080/",
          "height": 536
        }
      },
      "source": [
        "plt.figure(1)\n",
        "imgplot=plt.imshow(np.flipud(sstfield))\n",
        "imgplot.set_cmap('hot')\n",
        "plt.colorbar()\n",
        "plt.show()\n",
        "\n",
        "\n",
        "\n",
        "print(\"....... Filtering fine-scale for regridding\")\n",
        "LamScale   = 0.2\n",
        "\n",
        "IterScale  = 500\n",
        "if IterScale > 0:\n",
        "    sstFilt_HR = lap_diffusionMask.lap_diffusionMask(sstfield,IterScale,LamScale)\n",
        "else:\n",
        "    sstFilt_HR = sstfield.copy()\n",
        "\n",
        "\n",
        "\n",
        "plt.figure(2)\n",
        "imgplot=plt.imshow(np.flipud(sstFilt_HR))\n",
        "imgplot.set_cmap('hot')\n",
        "plt.colorbar()\n",
        "plt.show()\n",
        "\n",
        "\n"
      ],
      "execution_count": 11,
      "outputs": [
        {
          "output_type": "display_data",
          "data": {
            "image/png": "[encoded data removed]",
            "text/plain": [
              "<Figure size 432x288 with 2 Axes>"
            ]
          },
          "metadata": {
            "tags": [],
            "needs_background": "light"
          }
        },
        {
          "output_type": "stream",
          "text": [
            "....... Filtering fine-scale for regridding\n"
          ],
          "name": "stdout"
        },
        {
          "output_type": "display_data",
          "data": {
            "image/png": "[encoded data removed]",
            "text/plain": [
              "<Figure size 432x288 with 2 Axes>"
            ]
          },
          "metadata": {
            "tags": [],
            "needs_background": "light"
          }
        }
      ]
    },
    {
      "cell_type": "code",
      "metadata": {
        "id": "OFGBJY2oJIsU",
        "colab_type": "code",
        "outputId": "de50a92d-e794-4590-8f53-7ff7f3fab2c4",
        "colab": {
          "base_uri": "https://localhost:8080/",
          "height": 34
        }
      },
      "source": [
        "res = 0.06\n",
        "lat = np.arange(Lats[0],Lats[-1],res)\n",
        "lon = np.arange(Lons[0],Lons[-1],res)\n",
        "\n",
        "print(\"....... Regridding\")\n",
        "finterp = interpolate.interp2d(Lons,Lats,sstFilt_HR, kind='cubic')\n",
        "sstHRi    = finterp(lon,lat)"
      ],
      "execution_count": 12,
      "outputs": [
        {
          "output_type": "stream",
          "text": [
            "....... Regridding\n"
          ],
          "name": "stdout"
        }
      ]
    },
    {
      "cell_type": "code",
      "metadata": {
        "id": "4xOqRoVHOELC",
        "colab_type": "code",
        "outputId": "8f4bafe8-81ad-4353-a5bc-d3ddd1eb7be1",
        "colab": {
          "base_uri": "https://localhost:8080/",
          "height": 268
        }
      },
      "source": [
        "plt.figure()\n",
        "imgplot=plt.imshow(np.flipud(sstHRi))\n",
        "imgplot.set_cmap('hot')\n",
        "plt.colorbar()\n",
        "plt.show()\n"
      ],
      "execution_count": 13,
      "outputs": [
        {
          "output_type": "display_data",
          "data": {
            "image/png": "[encoded data removed]",
            "text/plain": [
              "<Figure size 432x288 with 2 Axes>"
            ]
          },
          "metadata": {
            "tags": [],
            "needs_background": "light"
          }
        }
      ]
    },
    {
      "cell_type": "code",
      "metadata": {
        "id": "cgOcnbJCggTA",
        "colab_type": "code",
        "outputId": "ca7f69ab-29b8-4553-c329-417731db6f62",
        "colab": {
          "base_uri": "https://localhost:8080/",
          "height": 435
        }
      },
      "source": [
        "psd1D=compute_PSD1D(sstHRi)\n",
        "\n",
        "plt.plot(np.arange(len(psd1D)),psd1D)\n",
        "\n",
        "print(psd1D)\n"
      ],
      "execution_count": 14,
      "outputs": [
        {
          "output_type": "stream",
          "text": [
            "[6.39350469e+08 8.30758919e+08 6.23680918e+04 2.00159929e+04\n",
            " 4.20043896e+03 1.61029495e+03 7.42582834e+02 3.89197039e+02\n",
            " 2.22711834e+02 1.36019309e+02 8.73406286e+01 5.83455091e+01\n",
            " 4.02354618e+01 2.84744609e+01 2.05836523e+01 1.51406053e+01\n",
            " 1.13010192e+01 8.52623883e+00 6.49648152e+00 4.98177760e+00\n",
            " 3.83833132e+00 2.96332387e+00 2.28895204e+00 1.76291114e+00\n",
            " 1.35046998e+00 1.02512474e+00 7.67646377e-01 5.63688657e-01\n",
            " 4.02518141e-01 2.76118346e-01 1.78406485e-01 1.04933496e-01\n",
            " 5.24248798e-02 1.86206385e-02]\n"
          ],
          "name": "stdout"
        },
        {
          "output_type": "display_data",
          "data": {
            "image/png": "[encoded data removed]",
            "text/plain": [
              "<Figure size 432x288 with 1 Axes>"
            ]
          },
          "metadata": {
            "tags": [],
            "needs_background": "light"
          }
        }
      ]
    },
    {
      "cell_type": "code",
      "metadata": {
        "id": "kC7Cq0_HhNB-",
        "colab_type": "code",
        "outputId": "35278d2f-66c9-4d22-8421-6bd0da1bc5b1",
        "colab": {
          "base_uri": "https://localhost:8080/",
          "height": 303
        }
      },
      "source": [
        "print(\"....... Low-pass filtering\")\n",
        "IterScale  = 100\n",
        "sstLRi = lap_diffusionMask.lap_diffusionMask(sstHRi,IterScale,LamScale)\n",
        "\n",
        "IterScale  = 100\n",
        "if IterScale > 0 :\n",
        "    resLR = 1.\n",
        "    latLR = np.arange(Lats[0],Lats[-1],resLR)\n",
        "    lonLR = np.arange(Lons[0],Lons[-1],resLR)\n",
        "    finterp = interpolate.interp2d(lon,lat,sstLRi, kind='cubic')\n",
        "    sstLRi  = finterp(lonLR,latLR)\n",
        "    \n",
        "    sstLRi = lap_diffusionMask.lap_diffusionMask(sstLRi,IterScale,LamScale)\n",
        "    finterp = interpolate.interp2d(lonLR,latLR,sstLRi, kind='cubic')\n",
        "    sstLRi  = finterp(lon,lat)\n",
        "\n",
        "\n",
        "\n",
        "plt.figure()\n",
        "imgplot=plt.imshow(np.flipud(sstLRi))\n",
        "imgplot.set_cmap('hot')\n",
        "plt.colorbar()\n",
        "plt.show()\n",
        "print(latLR)"
      ],
      "execution_count": 15,
      "outputs": [
        {
          "output_type": "stream",
          "text": [
            "....... Low-pass filtering\n"
          ],
          "name": "stdout"
        },
        {
          "output_type": "display_data",
          "data": {
            "image/png": "[encoded data removed]",
            "text/plain": [
              "<Figure size 432x288 with 2 Axes>"
            ]
          },
          "metadata": {
            "tags": [],
            "needs_background": "light"
          }
        },
        {
          "output_type": "stream",
          "text": [
            "[-50. -49. -48. -47. -46.]\n"
          ],
          "name": "stdout"
        }
      ]
    },
    {
      "cell_type": "code",
      "metadata": {
        "id": "z8Pv6ybUkaH8",
        "colab_type": "code",
        "outputId": "d9000b09-5696-47ea-81ae-3b989160e2fa",
        "colab": {
          "base_uri": "https://localhost:8080/",
          "height": 518
        }
      },
      "source": [
        "def GetHRData(I,IterScale,LamScale,res,Lats,Lons):\n",
        "  #....... Filtering fine-scale for regridding\n",
        "\n",
        "  if IterScale > 0:\n",
        "    sstFilt_HR = lap_diffusionMask.lap_diffusionMask(I,IterScale,LamScale)\n",
        "  else:\n",
        "    sstFilt_HR = I.copy()\n",
        "\n",
        "  \n",
        "  lat = np.arange(Lats[0],Lats[-1],res)\n",
        "  lon = np.arange(Lons[0],Lons[-1],res)\n",
        "\n",
        "  #....... Regridding\n",
        "  finterp = interpolate.interp2d(Lons,Lats,sstFilt_HR, kind='cubic')\n",
        "  sstHRi    = finterp(lon,lat)\n",
        "\n",
        "  return sstHRi\n",
        "\n",
        "def GetLRData(I,IterScale,LamScale,res,resLR,Lats,Lons):\n",
        "  sstLRi = lap_diffusionMask.lap_diffusionMask(I,IterScale,LamScale)\n",
        "  if IterScale > 0 :\n",
        "    lat = np.arange(Lats[0],Lats[-1],res)\n",
        "    lon = np.arange(Lons[0],Lons[-1],res)\n",
        "    latLR = np.arange(Lats[0],Lats[-1],resLR)\n",
        "    lonLR = np.arange(Lons[0],Lons[-1],resLR)\n",
        "    finterp = interpolate.interp2d(lon,lat,sstLRi, kind='cubic')\n",
        "    sstLRi  = finterp(lonLR,latLR)\n",
        "    \n",
        "    sstLRi = lap_diffusionMask.lap_diffusionMask(sstLRi,IterScale,LamScale)\n",
        "    finterp = interpolate.interp2d(lonLR,latLR,sstLRi, kind='cubic')\n",
        "    sstLRi  = finterp(lon,lat)\n",
        "\n",
        "  return sstLRi\n",
        "\n",
        "\n",
        "sstHRii=GetHRData(sstfield,100,0.2,0.06,Lats,Lons)\n",
        "plt.figure()\n",
        "imgplot=plt.imshow(np.flipud(sstHRii))\n",
        "imgplot.set_cmap('hot')\n",
        "plt.colorbar()\n",
        "plt.show()\n",
        "\n",
        "sstLRii=GetLRData(sstHRii,100,0.2,0.06,1,Lats,Lons)\n",
        "plt.figure()\n",
        "imgplot=plt.imshow(np.flipud(sstLRii))\n",
        "imgplot.set_cmap('hot')\n",
        "plt.colorbar()\n",
        "plt.show()\n"
      ],
      "execution_count": 16,
      "outputs": [
        {
          "output_type": "display_data",
          "data": {
            "image/png": "[encoded data removed]",
            "text/plain": [
              "<Figure size 432x288 with 2 Axes>"
            ]
          },
          "metadata": {
            "tags": [],
            "needs_background": "light"
          }
        },
        {
          "output_type": "display_data",
          "data": {
            "image/png": "[encoded data removed]",
            "text/plain": [
              "<Figure size 432x288 with 2 Axes>"
            ]
          },
          "metadata": {
            "tags": [],
            "needs_background": "light"
          }
        }
      ]
    },
    {
      "cell_type": "markdown",
      "metadata": {
        "id": "YLSTTznAxNo7",
        "colab_type": "text"
      },
      "source": [
        "## Preprocessing "
      ]
    },
    {
      "cell_type": "code",
      "metadata": {
        "id": "MCy7oCmsydq0",
        "colab_type": "code",
        "colab": {}
      },
      "source": [
        "import os\n",
        "from netCDF4 import Dataset\n",
        "import matplotlib.pyplot as plt\n",
        "import numpy as np\n",
        "from sklearn.utils import shuffle\n",
        "import torch\n",
        "import torchvision\n",
        "import torchvision.transforms as transforms\n",
        "import torch.nn as nn\n",
        "import torch.nn.functional as F\n",
        "import torch.optim as optim\n",
        "from sklearn.feature_extraction import image\n",
        "from netCDF4 import Dataset\n",
        "import numpy.ma as ma"
      ],
      "execution_count": 0,
      "outputs": []
    },
    {
      "cell_type": "code",
      "metadata": {
        "id": "S5gchFZMyj8W",
        "colab_type": "code",
        "outputId": "cd7e2e5b-89ce-411b-e6f8-4da3253a608e",
        "colab": {
          "base_uri": "https://localhost:8080/",
          "height": 158
        }
      },
      "source": [
        "os.chdir('/content/drive/My Drive/')\n",
        "!pwd\n",
        "!ls /content/drive/My\\ Drive/CMEMSData"
      ],
      "execution_count": 18,
      "outputs": [
        {
          "output_type": "stream",
          "text": [
            "/content/drive/My Drive\n",
            "global-analysis-forecast-phy-001-024-201810.nc\n",
            "global-analysis-forecast-phy-001-024-201811.nc\n",
            "global-analysis-forecast-phy-001-024-201812.nc\n",
            "global-analysis-forecast-phy-001-024-201901.nc\n",
            "global-analysis-forecast-phy-001-024-201902.nc\n",
            "global-analysis-forecast-phy-001-024-201903.nc\n",
            "global-analysis-forecast-phy-001-024-201904.nc\n"
          ],
          "name": "stdout"
        }
      ]
    },
    {
      "cell_type": "code",
      "metadata": {
        "id": "gwrp75xtyrNO",
        "colab_type": "code",
        "outputId": "c2d9effb-f9bd-4b43-db7d-e2ed339d50f1",
        "colab": {
          "base_uri": "https://localhost:8080/",
          "height": 176
        }
      },
      "source": [
        "X_train=[]\n",
        "Y_train=[]\n",
        "X_test=[]\n",
        "Y_test=[]\n",
        "Maskes=[]\n",
        "train_files=['global-analysis-forecast-phy-001-024-201812.nc','global-analysis-forecast-phy-001-024-201902.nc']\n",
        "test_files=['global-analysis-forecast-phy-001-024-201901.nc']\n",
        "\n",
        "# trainning data\n",
        "\n",
        "for f in train_files:\n",
        "  nc_data     = Dataset('./CMEMSData/'+f,'r')\n",
        "  ssh = nc_data['zos'][:,:,:]\n",
        "  sst = nc_data['thetao'][:,0,:,:]\n",
        "  for i in range(len(sst)):\n",
        "    X=np.flipud(sst[i,:,:]).data\n",
        "    Y=np.flipud(ssh[i,:,:]).data\n",
        "    XY_mask=np.flipud(ssh[i,:,:]).mask\n",
        "    X_patches=image.extract_patches_2d(X, (50, 50), max_patches= 100, random_state=0)\n",
        "    Y_patches=image.extract_patches_2d(Y, (50, 50), max_patches= 100, random_state=0)\n",
        "    Mask_patches=image.extract_patches_2d(XY_mask, (50, 50), max_patches= 100, random_state=0)\n",
        "\n",
        "    for j in range(len(X_patches)):\n",
        "      X_train.append(X_patches[j])\n",
        "      Y_train.append(Y_patches[j])\n",
        "      Maskes.append(Mask_patches[j])\n",
        "\n",
        "x_train=[]\n",
        "y_train=[]\n",
        "\n",
        "for i in range(len(X_train)):\n",
        "  if np.sum(Maskes[i]==True)==0:\n",
        "    x_train.append(X_train[i])\n",
        "    y_train.append(Y_train[i])\n",
        "\n",
        "print(len(x_train))\n",
        "print(len(y_train))\n",
        "\n",
        "#test data\n",
        "\n",
        "Maskes=[]\n",
        "for f in test_files:\n",
        "  nc_data     = Dataset('./CMEMSData/'+f,'r')\n",
        "  ssh = nc_data['zos'][:,:,:]\n",
        "  sst = nc_data['thetao'][:,0,:,:]\n",
        "  for i in range(len(sst)):\n",
        "    X=np.flipud(sst[i,:,:]).data\n",
        "    Y=np.flipud(ssh[i,:,:]).data\n",
        "    XY_mask=np.flipud(ssh[i,:,:]).mask\n",
        "    X_patches=image.extract_patches_2d(X, (50, 50), max_patches= 100, random_state=0)\n",
        "    Y_patches=image.extract_patches_2d(Y, (50, 50), max_patches= 100, random_state=0)\n",
        "    Mask_patches=image.extract_patches_2d(XY_mask, (50, 50), max_patches= 100, random_state=0)\n",
        "\n",
        "    for j in range(len(X_patches)):\n",
        "      X_test.append(X_patches[j])\n",
        "      Y_test.append(Y_patches[j])\n",
        "      Maskes.append(Mask_patches[j])\n",
        "\n",
        "x_test=[]\n",
        "y_test=[]\n",
        "\n",
        "for i in range(len(X_test)):\n",
        "  if np.sum(Maskes[i]==True)==0:\n",
        "    x_test.append(X_test[i])\n",
        "    y_test.append(Y_test[i])\n",
        "\n",
        "print(len(x_test))\n",
        "print(len(y_test))\n",
        "X=[x_train,x_test]\n",
        "Y=[y_train,y_test]\n",
        "Mx1=np.array([np.mean(x) for x in x_train]).mean()\n",
        "My1=np.array([np.mean(y) for y in y_train]).mean()\n",
        "Mx2=np.array([np.mean(x) for x in x_test]).mean()\n",
        "My2=np.array([np.mean(y) for y in y_test]).mean()\n",
        "print(Mx1)\n",
        "print(My1)\n",
        "print(Mx2)\n",
        "print(My2)\n",
        "\n",
        "#Moyenne non spacialisée\n",
        "\n",
        "x_train=np.array(x_train)\n",
        "y_train=np.array(y_train)\n",
        "x_test=np.array(x_test)\n",
        "y_test=np.array(y_test)\n",
        "\n",
        "x_train=x_train-Mx1\n",
        "y_train=y_train-My1\n",
        "x_test=x_test-Mx2\n",
        "y_test=y_test-My2\n",
        "\n",
        "\n",
        "x_train,y_train=shuffle(x_train,y_train, random_state=0)\n",
        "x_test,y_test=shuffle(x_test,y_test, random_state=0)\n",
        "\n",
        "\"\"\"\n",
        "x_train=torch.Tensor(x_train)\n",
        "y_train=torch.Tensor(y_train)\n",
        "x_test=torch.Tensor(x_test)\n",
        "y_test=torch.Tensor(y_test)\n",
        "\"\"\""
      ],
      "execution_count": 19,
      "outputs": [
        {
          "output_type": "stream",
          "text": [
            "5605\n",
            "5605\n",
            "2945\n",
            "2945\n",
            "15.594807103916969\n",
            "0.0060345840484668225\n",
            "15.615132012611205\n",
            "0.02577029756980937\n"
          ],
          "name": "stdout"
        },
        {
          "output_type": "execute_result",
          "data": {
            "text/plain": [
              "'\\nx_train=torch.Tensor(x_train)\\ny_train=torch.Tensor(y_train)\\nx_test=torch.Tensor(x_test)\\ny_test=torch.Tensor(y_test)\\n'"
            ]
          },
          "metadata": {
            "tags": []
          },
          "execution_count": 19
        }
      ]
    },
    {
      "cell_type": "code",
      "metadata": {
        "id": "8aV2Pu6Q16Z4",
        "colab_type": "code",
        "outputId": "23433463-7a52-46ea-bcf7-e1fb9489ed0e",
        "colab": {
          "base_uri": "https://localhost:8080/",
          "height": 52
        }
      },
      "source": [
        "X_train=[]\n",
        "Y_train=[]\n",
        "X_test=[]\n",
        "Y_test=[]\n",
        "\n",
        "for i in range(len(x_train)):\n",
        "  x=GetHRData(x_train[i],100,0.2,0.06,Lats,Lons)\n",
        "  X_train.append([x,x])\n",
        "  y=GetHRData(y_train[i],100,0.2,0.06,Lats,Lons)\n",
        "  Y_train.append([y,y])\n",
        "print(\"...............done\")\n",
        "  \n",
        "\n",
        "for i in range(len(x_test)):\n",
        "  x=GetHRData(x_test[i],100,0.2,0.06,Lats,Lons)\n",
        "  X_test.append([x,x])\n",
        "  y=GetHRData(y_test[i],100,0.2,0.06,Lats,Lons)\n",
        "  Y_test.append([y,y])\n",
        "print(\"...............done\")\n"
      ],
      "execution_count": 20,
      "outputs": [
        {
          "output_type": "stream",
          "text": [
            "...............done\n",
            "...............done\n"
          ],
          "name": "stdout"
        }
      ]
    },
    {
      "cell_type": "code",
      "metadata": {
        "id": "we2UKWvrZQco",
        "colab_type": "code",
        "outputId": "43aca6eb-8720-4947-c402-b0af884e74bc",
        "colab": {
          "base_uri": "https://localhost:8080/",
          "height": 87
        }
      },
      "source": [
        "print(np.array(X_train).shape)\n",
        "print(np.array(Y_train).shape)\n",
        "print(np.array(X_test).shape)\n",
        "print(np.array(Y_test).shape)\n"
      ],
      "execution_count": 21,
      "outputs": [
        {
          "output_type": "stream",
          "text": [
            "(5605, 2, 69, 69)\n",
            "(5605, 2, 69, 69)\n",
            "(2945, 2, 69, 69)\n",
            "(2945, 2, 69, 69)\n"
          ],
          "name": "stdout"
        }
      ]
    },
    {
      "cell_type": "code",
      "metadata": {
        "id": "D1SoeEuP2Ckt",
        "colab_type": "code",
        "outputId": "0000f4ac-9706-47fc-af0e-8898dd959eff",
        "colab": {
          "base_uri": "https://localhost:8080/",
          "height": 267
        }
      },
      "source": [
        "plt.figure()\n",
        "imgplot=plt.imshow(Y_test[0][0])\n",
        "imgplot.set_cmap('hot')\n",
        "plt.colorbar()\n",
        "plt.show()"
      ],
      "execution_count": 22,
      "outputs": [
        {
          "output_type": "display_data",
          "data": {
            "image/png": "[encoded data removed]",
            "text/plain": [
              "<Figure size 432x288 with 2 Axes>"
            ]
          },
          "metadata": {
            "tags": [],
            "needs_background": "light"
          }
        }
      ]
    },
    {
      "cell_type": "code",
      "metadata": {
        "id": "LuLUGpKC_jKp",
        "colab_type": "code",
        "colab": {}
      },
      "source": [
        "del x_train, y_train, x_test, y_test, X_patches, Y_patches, Mask_patches\n"
      ],
      "execution_count": 0,
      "outputs": []
    },
    {
      "cell_type": "code",
      "metadata": {
        "id": "zPkLF-Eo-p-Q",
        "colab_type": "code",
        "colab": {}
      },
      "source": [
        "X_train=torch.Tensor(X_train)/10\n",
        "Y_train=torch.Tensor(Y_train)/2\n",
        "X_test=torch.Tensor(X_test)/10\n",
        "Y_test=torch.Tensor(Y_test)/2"
      ],
      "execution_count": 0,
      "outputs": []
    },
    {
      "cell_type": "markdown",
      "metadata": {
        "id": "LPDaRXNpRqEZ",
        "colab_type": "text"
      },
      "source": [
        "## Revnet Model"
      ]
    },
    {
      "cell_type": "code",
      "metadata": {
        "id": "94vDBIDgUqGD",
        "colab_type": "code",
        "colab": {}
      },
      "source": [
        "import math\n",
        "\n",
        "import torch\n",
        "import torch.nn as nn\n",
        "import torch.nn.functional as F\n",
        "\n",
        "from torch.autograd import Function, Variable\n",
        "\n",
        "CUDA = torch.cuda.is_available()\n",
        "\n",
        "def size_after_residual(size, out_channels, kernel_size, stride, padding, dilation):\n",
        "    \"\"\"Calculate the size of the output of the residual function\n",
        "    \"\"\"\n",
        "    N, C_in, H_in, W_in = size\n",
        "\n",
        "    H_out = math.floor(\n",
        "        (H_in + 2*padding - dilation*(kernel_size - 1) - 1) / stride + 1\n",
        "    )\n",
        "    W_out = math.floor(\n",
        "        (W_in + 2*padding - dilation*(kernel_size - 1) - 1) / stride + 1\n",
        "    )\n",
        "    return N, out_channels, H_out, W_out\n",
        "\n",
        "\n",
        "def possible_downsample(x, in_channels, out_channels, stride=1, padding=1,\n",
        "                        dilation=1):\n",
        "    _, _, H_in, W_in = x.size()\n",
        "\n",
        "    _, _, H_out, W_out = size_after_residual(x.size(), out_channels, 3, stride, padding, dilation)\n",
        "\n",
        "    # Downsample image\n",
        "    if H_in > H_out or W_in > W_out:\n",
        "        out = F.avg_pool2d(x, 2*dilation+1, stride, padding)\n",
        "\n",
        "    # Pad with empty channels\n",
        "    if in_channels < out_channels:\n",
        "\n",
        "        try: out\n",
        "        except: out = x\n",
        "\n",
        "        pad = Variable(torch.zeros(\n",
        "            out.size(0),\n",
        "            (out_channels - in_channels) // 2,\n",
        "            out.size(2), out.size(3)\n",
        "        ), requires_grad=True)\n",
        "        \"\"\"\n",
        "        if CUDA:\n",
        "            pad = pad.cuda()\n",
        "         \"\"\"\n",
        "        temp = torch.cat([pad, out], dim=1)\n",
        "        out = torch.cat([temp, pad], dim=1)\n",
        "\n",
        "    # If we did nothing, add zero tensor, so the output of this function\n",
        "    # depends on the input in the graph\n",
        "    try: out\n",
        "    except:\n",
        "        injection = Variable(torch.zeros_like(x.data), requires_grad=True)\n",
        "\n",
        "        if CUDA:\n",
        "            injection.cuda()\n",
        "\n",
        "        out = x + injection\n",
        "\n",
        "    return out\n",
        "\n",
        "\n",
        "class RevBlockFunction(Function):\n",
        "    @staticmethod\n",
        "    def residual(x, in_channels, out_channels, params, buffers, training,\n",
        "                 stride=1, padding=1, dilation=1, no_activation=False):\n",
        "        \"\"\"Compute a pre-activation residual function.\n",
        "        Args:\n",
        "            x (Variable): The input variable\n",
        "            in_channels (int): Number of channels of x\n",
        "            out_channels (int): Number of channels of the output\n",
        "        Returns:\n",
        "            out (Variable): The result of the computation\n",
        "        \"\"\"\n",
        "        out = x\n",
        "\n",
        "        if not no_activation:\n",
        "            out = F.batch_norm(out, buffers[0], buffers[1], params[0],\n",
        "                               params[1], training)\n",
        "            out = F.relu(out)\n",
        "\n",
        "        out = F.conv2d(out, params[-6], params[-5], stride, padding=padding,\n",
        "                       dilation=dilation)\n",
        "\n",
        "        out = F.batch_norm(out, buffers[-2], buffers[-1], params[-4],\n",
        "                           params[-3], training)\n",
        "        out = F.relu(out)\n",
        "        out = F.conv2d(out, params[-2], params[-1], stride=1, padding=1,\n",
        "                       dilation=1)\n",
        "\n",
        "        return out\n",
        "\n",
        "    @staticmethod\n",
        "    def _forward(x, in_channels, out_channels, training, stride, padding,\n",
        "                 dilation, f_params, f_buffs, g_params, g_buffs,\n",
        "                 no_activation=False):\n",
        "\n",
        "        x1, x2 = torch.chunk(x, 2, dim=1)\n",
        "\n",
        "        with torch.no_grad():\n",
        "            x1 = Variable(x1.contiguous())\n",
        "            x2 = Variable(x2.contiguous())\n",
        "\n",
        "            if CUDA:\n",
        "                x1.cuda()\n",
        "                x2.cuda()\n",
        "\n",
        "            x1_ = possible_downsample(x1, in_channels, out_channels, stride,\n",
        "                                      padding, dilation)\n",
        "            x2_ = possible_downsample(x2, in_channels, out_channels, stride,\n",
        "                                      padding, dilation)\n",
        "\n",
        "            f_x2 = RevBlockFunction.residual(\n",
        "                x2,\n",
        "                in_channels,\n",
        "                out_channels,\n",
        "                f_params,\n",
        "                f_buffs, training,\n",
        "                stride=stride,\n",
        "                padding=padding,\n",
        "                dilation=dilation,\n",
        "                no_activation=no_activation\n",
        "            )\n",
        "\n",
        "            y1 = f_x2 + x1_\n",
        "\n",
        "            g_y1 = RevBlockFunction.residual(\n",
        "                y1,\n",
        "                out_channels,\n",
        "                out_channels,\n",
        "                g_params,\n",
        "                g_buffs,\n",
        "                training\n",
        "            )\n",
        "\n",
        "            y2 = g_y1 + x2_\n",
        "\n",
        "            y = torch.cat([y1, y2], dim=1)\n",
        "\n",
        "            del y1, y2\n",
        "            del x1, x2\n",
        "\n",
        "        return y\n",
        "\n",
        "    @staticmethod\n",
        "    def _backward(output, in_channels, out_channels, f_params, f_buffs,\n",
        "                  g_params, g_buffs, training, padding, dilation, no_activation):\n",
        "\n",
        "        y1, y2 = torch.chunk(output, 2, dim=1)\n",
        "        with torch.no_grad():\n",
        "            y1 = Variable(y1.contiguous())\n",
        "            y2 = Variable(y2.contiguous())\n",
        "\n",
        "            x2 = y2 - RevBlockFunction.residual(\n",
        "                y1,\n",
        "                out_channels,\n",
        "                out_channels,\n",
        "                g_params,\n",
        "                g_buffs,\n",
        "                training=training\n",
        "            )\n",
        "\n",
        "            x1 = y1 - RevBlockFunction.residual(\n",
        "                x2,\n",
        "                in_channels,\n",
        "                out_channels,\n",
        "                f_params,\n",
        "                f_buffs,\n",
        "                training=training,\n",
        "                padding=padding,\n",
        "                dilation=dilation\n",
        "            )\n",
        "\n",
        "            del y1, y2\n",
        "            x1, x2 = x1.data, x2.data\n",
        "\n",
        "            x = torch.cat((x1, x2), 1)\n",
        "        return x\n",
        "\n",
        "    @staticmethod\n",
        "    def _grad(x, dy, in_channels, out_channels, training, stride, padding,\n",
        "              dilation, activations, f_params, f_buffs, g_params, g_buffs,\n",
        "              no_activation=False, storage_hooks=[]):\n",
        "        dy1, dy2 = torch.chunk(dy, 2, dim=1)\n",
        "\n",
        "        x1, x2 = torch.chunk(x, 2, dim=1)\n",
        "\n",
        "        with torch.enable_grad():\n",
        "            x1 = Variable(x1.contiguous(), requires_grad=True)\n",
        "            x2 = Variable(x2.contiguous(), requires_grad=True)\n",
        "            x1.retain_grad()\n",
        "            x2.retain_grad()\n",
        "\n",
        "            if CUDA:\n",
        "                x1.cuda()\n",
        "                x2.cuda()\n",
        "\n",
        "            x1_ = possible_downsample(x1, in_channels, out_channels, stride,\n",
        "                                      padding, dilation)\n",
        "            x2_ = possible_downsample(x2, in_channels, out_channels, stride,\n",
        "                                      padding, dilation)\n",
        "\n",
        "            f_x2 = RevBlockFunction.residual(\n",
        "                x2,\n",
        "                in_channels,\n",
        "                out_channels,\n",
        "                f_params,\n",
        "                f_buffs,\n",
        "                training=training,\n",
        "                stride=stride,\n",
        "                padding=padding,\n",
        "                dilation=dilation,\n",
        "                no_activation=no_activation\n",
        "            )\n",
        "\n",
        "            y1_ = f_x2 + x1_\n",
        "\n",
        "            g_y1 = RevBlockFunction.residual(\n",
        "                y1_,\n",
        "                out_channels,\n",
        "                out_channels,\n",
        "                g_params,\n",
        "                g_buffs,\n",
        "                training=training\n",
        "            )\n",
        "\n",
        "            y2_ = g_y1 + x2_\n",
        "\n",
        "            dd1 = torch.autograd.grad(y2_, (y1_,) + tuple(g_params), dy2,\n",
        "                                      retain_graph=True)\n",
        "            dy2_y1 = dd1[0]\n",
        "            dgw = dd1[1:]\n",
        "            dy1_plus = dy2_y1 + dy1\n",
        "            dd2 = torch.autograd.grad(y1_, (x1, x2) + tuple(f_params), dy1_plus,\n",
        "                                      retain_graph=True)\n",
        "            dfw = dd2[2:]\n",
        "\n",
        "            dx2 = dd2[1]\n",
        "            dx2 += torch.autograd.grad(x2_, x2, dy2, retain_graph=True)[0]\n",
        "            dx1 = dd2[0]\n",
        "\n",
        "            for hook in storage_hooks:\n",
        "                x = hook(x)\n",
        "\n",
        "            activations.append(x)\n",
        "\n",
        "            y1_.detach_()\n",
        "            y2_.detach_()\n",
        "            del y1_, y2_\n",
        "            dx = torch.cat((dx1, dx2), 1)\n",
        "\n",
        "        return dx, dfw, dgw\n",
        "\n",
        "    @staticmethod\n",
        "    def forward(ctx, x, in_channels, out_channels, training, stride, padding,\n",
        "                dilation, no_activation, activations, storage_hooks, *args):\n",
        "        \"\"\"Compute forward pass including boilerplate code.\n",
        "        This should not be called directly, use the apply method of this class.\n",
        "        Args:\n",
        "            ctx (Context):                  Context object, see PyTorch docs\n",
        "            x (Tensor):                     4D input tensor\n",
        "            in_channels (int):              Number of channels on input\n",
        "            out_channels (int):             Number of channels on output\n",
        "            training (bool):                Whethere we are training right now\n",
        "            stride (int):       \n",
        "                        Stride to use for convolutions\n",
        "            no_activation (bool):           Whether to compute an initial\n",
        "                                            activation in the residual function\n",
        "            activations (List):             Activation stack\n",
        "            storage_hooks (List[Function]): Functions to apply to activations\n",
        "                                            before storing them\n",
        "            *args:                          Should contain all the Parameters\n",
        "                                            of the module\n",
        "        \"\"\"\n",
        "\n",
        "        if not no_activation:\n",
        "            f_params = [Variable(x) for x in args[:8]]\n",
        "            g_params = [Variable(x) for x in args[8:16]]\n",
        "            f_buffs = args[16:20]\n",
        "            g_buffs = args[20:]\n",
        "        else:\n",
        "            f_params = [Variable(x) for x in args[:6]]\n",
        "            g_params = [Variable(x) for x in args[6:14]]\n",
        "            f_buffs = args[14:16]\n",
        "            g_buffs = args[16:]\n",
        "\n",
        "        if CUDA:\n",
        "            for var in f_params:\n",
        "                var.cuda()\n",
        "            for var in g_params:\n",
        "                var.cuda()\n",
        "\n",
        "        # if the images get smaller information is lost and we need to save the input\n",
        "        _, _, H_in, W_in = x.size()\n",
        "        _, _, H_out, W_out = size_after_residual(x.size(), out_channels, 3, stride, padding, dilation)\n",
        "        if H_in > H_out or W_in > W_out or no_activation:\n",
        "            activations.append(x)\n",
        "            ctx.load_input = True\n",
        "        else:\n",
        "            ctx.load_input = False\n",
        "\n",
        "        ctx.save_for_backward(*[x.data for x in f_params],\n",
        "                              *[x.data for x in g_params])\n",
        "        ctx.f_buffs = f_buffs\n",
        "        ctx.g_buffs = g_buffs\n",
        "        ctx.stride = stride\n",
        "        ctx.padding = padding\n",
        "        ctx.dilation = dilation\n",
        "        ctx.training = training\n",
        "        ctx.no_activation = no_activation\n",
        "        ctx.storage_hooks = storage_hooks\n",
        "        ctx.activations = activations\n",
        "        ctx.in_channels = in_channels\n",
        "        ctx.out_channels = out_channels\n",
        "\n",
        "        y = RevBlockFunction._forward(\n",
        "            x,\n",
        "            in_channels,\n",
        "            out_channels,\n",
        "            training,\n",
        "            stride,\n",
        "            padding,\n",
        "            dilation,\n",
        "            f_params, f_buffs,\n",
        "            g_params, g_buffs,\n",
        "            no_activation=no_activation\n",
        "        )\n",
        "\n",
        "        return y.data\n",
        "\n",
        "    @staticmethod\n",
        "    def backward(ctx, grad_out):\n",
        "        saved_tensors = list(ctx.saved_tensors)\n",
        "        if not ctx.no_activation:\n",
        "            f_params = [Variable(p, requires_grad=True) for p in saved_tensors[:8]]\n",
        "            g_params = [Variable(p, requires_grad=True) for p in saved_tensors[8:16]]\n",
        "        else: \n",
        "            f_params = [Variable(p, requires_grad=True) for p in saved_tensors[:6]]\n",
        "            g_params = [Variable(p, requires_grad=True) for p in saved_tensors[6:14]]\n",
        "\n",
        "        in_channels = ctx.in_channels\n",
        "        out_channels = ctx.out_channels\n",
        "\n",
        "        # Load or reconstruct input\n",
        "        if ctx.load_input:\n",
        "            ctx.activations.pop()\n",
        "            x = ctx.activations.pop()\n",
        "        else:\n",
        "            output = ctx.activations.pop()\n",
        "            x = RevBlockFunction._backward(\n",
        "                output,\n",
        "                in_channels,\n",
        "                out_channels,\n",
        "                f_params, ctx.f_buffs,\n",
        "                g_params, ctx.g_buffs,\n",
        "                ctx.training,\n",
        "                ctx.padding,\n",
        "                ctx.dilation,\n",
        "                ctx.no_activation\n",
        "            )\n",
        "\n",
        "        dx, dfw, dgw = RevBlockFunction._grad(\n",
        "            x,\n",
        "            grad_out,\n",
        "            in_channels,\n",
        "            out_channels,\n",
        "            ctx.training,\n",
        "            ctx.stride,\n",
        "            ctx.padding,\n",
        "            ctx.dilation,\n",
        "            ctx.activations,\n",
        "            f_params, ctx.f_buffs,\n",
        "            g_params, ctx.g_buffs,\n",
        "            no_activation=ctx.no_activation,\n",
        "            storage_hooks=ctx.storage_hooks\n",
        "        )\n",
        "\n",
        "        num_buffs = 2 if ctx.no_activation else 4\n",
        "\n",
        "        return ((dx, None, None, None, None, None, None, None, None, None) + tuple(dfw) +\n",
        "                tuple(dgw) + tuple([None]*num_buffs) + tuple([None]*4))\n",
        "\n",
        "\n",
        "class RevBlock(nn.Module):\n",
        "    def __init__(self, in_channels, out_channels, activations, stride=1,\n",
        "                 padding=1, dilation=1, no_activation=False, storage_hooks=[]):\n",
        "        super(RevBlock, self).__init__()\n",
        "\n",
        "        self.in_channels = in_channels // 2\n",
        "        self.out_channels = out_channels // 2\n",
        "        self.stride = stride\n",
        "        self.padding = padding\n",
        "        self.dilation = dilation\n",
        "        self.no_activation = no_activation\n",
        "        self.activations = activations\n",
        "        self.storage_hooks = storage_hooks\n",
        "\n",
        "        if not no_activation:\n",
        "            self.register_parameter(\n",
        "                'f_bw1',\n",
        "                nn.Parameter(torch.Tensor(self.in_channels))\n",
        "            )\n",
        "            self.register_parameter(\n",
        "                'f_bb1',\n",
        "                nn.Parameter(torch.Tensor(self.in_channels))\n",
        "            )\n",
        "\n",
        "        self.register_parameter(\n",
        "            'f_w1',\n",
        "            nn.Parameter(torch.Tensor(\n",
        "                self.out_channels,\n",
        "                self.in_channels,\n",
        "                3, 3\n",
        "            ))\n",
        "        )\n",
        "        self.register_parameter(\n",
        "            'f_b1',\n",
        "            nn.Parameter(torch.Tensor(self.out_channels))\n",
        "        )\n",
        "        self.register_parameter(\n",
        "            'f_bw2',\n",
        "            nn.Parameter(torch.Tensor(self.out_channels))\n",
        "        )\n",
        "        self.register_parameter(\n",
        "            'f_bb2',\n",
        "            nn.Parameter(torch.Tensor(self.out_channels))\n",
        "        )\n",
        "        self.register_parameter(\n",
        "            'f_w2',\n",
        "            nn.Parameter(torch.Tensor(\n",
        "                self.out_channels,\n",
        "                self.out_channels,\n",
        "                3, 3\n",
        "            ))\n",
        "        )\n",
        "        self.register_parameter(\n",
        "            'f_b2',\n",
        "            nn.Parameter(torch.Tensor(self.out_channels))\n",
        "        )\n",
        "\n",
        "        self.register_parameter(\n",
        "            'g_bw1',\n",
        "            nn.Parameter(torch.Tensor(self.out_channels))\n",
        "        )\n",
        "        self.register_parameter(\n",
        "            'g_bb1',\n",
        "            nn.Parameter(torch.Tensor(self.out_channels))\n",
        "        )\n",
        "        self.register_parameter(\n",
        "            'g_w1',\n",
        "            nn.Parameter(torch.Tensor(\n",
        "                self.out_channels,\n",
        "                self.out_channels,\n",
        "                3, 3\n",
        "            ))\n",
        "        )\n",
        "        self.register_parameter(\n",
        "            'g_b1',\n",
        "            nn.Parameter(torch.Tensor(self.out_channels))\n",
        "        )\n",
        "        self.register_parameter(\n",
        "            'g_bw2',\n",
        "            nn.Parameter(torch.Tensor(self.out_channels))\n",
        "        )\n",
        "        self.register_parameter(\n",
        "            'g_bb2',\n",
        "            nn.Parameter(torch.Tensor(self.out_channels))\n",
        "        )\n",
        "        self.register_parameter(\n",
        "            'g_w2',\n",
        "            nn.Parameter(torch.Tensor(\n",
        "                self.out_channels,\n",
        "                self.out_channels,\n",
        "                3, 3\n",
        "            ))\n",
        "        )\n",
        "        self.register_parameter(\n",
        "            'g_b2',\n",
        "            nn.Parameter(torch.Tensor(self.out_channels))\n",
        "        )\n",
        "\n",
        "        if not no_activation:\n",
        "            self.register_buffer('f_rm1', torch.zeros(self.in_channels))\n",
        "            self.register_buffer('f_rv1', torch.ones(self.in_channels))\n",
        "        self.register_buffer('f_rm2', torch.zeros(self.out_channels))\n",
        "        self.register_buffer('f_rv2', torch.ones(self.out_channels))\n",
        "\n",
        "        self.register_buffer('g_rm1', torch.zeros(self.out_channels))\n",
        "        self.register_buffer('g_rv1', torch.ones(self.out_channels))\n",
        "        self.register_buffer('g_rm2', torch.zeros(self.out_channels))\n",
        "        self.register_buffer('g_rv2', torch.ones(self.out_channels))\n",
        "\n",
        "        self.reset_parameters()\n",
        "\n",
        "    def reset_parameters(self):\n",
        "        f_stdv = 1 / math.sqrt(self.in_channels * 3 * 3)\n",
        "        g_stdv = 1 / math.sqrt(self.out_channels * 3 * 3)\n",
        "\n",
        "        if not self.no_activation:\n",
        "            self._parameters['f_bw1'].data.uniform_()\n",
        "            self._parameters['f_bb1'].data.zero_()\n",
        "        self._parameters['f_w1'].data.uniform_(-f_stdv, f_stdv)\n",
        "        self._parameters['f_b1'].data.uniform_(-f_stdv, f_stdv)\n",
        "        self._parameters['f_w2'].data.uniform_(-g_stdv, g_stdv)\n",
        "        self._parameters['f_b2'].data.uniform_(-g_stdv, g_stdv)\n",
        "        self._parameters['f_bw2'].data.uniform_()\n",
        "        self._parameters['f_bb2'].data.zero_()\n",
        "\n",
        "        self._parameters['g_w1'].data.uniform_(-g_stdv, g_stdv)\n",
        "        self._parameters['g_b1'].data.uniform_(-g_stdv, g_stdv)\n",
        "        self._parameters['g_w2'].data.uniform_(-g_stdv, g_stdv)\n",
        "        self._parameters['g_b2'].data.uniform_(-g_stdv, g_stdv)\n",
        "        self._parameters['g_bw1'].data.uniform_()\n",
        "        self._parameters['g_bb1'].data.zero_()\n",
        "        self._parameters['g_bw2'].data.uniform_()\n",
        "        self._parameters['g_bb2'].data.zero_()\n",
        "\n",
        "        if not self.no_activation:\n",
        "            self._buffers['f_rm1'].zero_()\n",
        "            self._buffers['f_rv1'].fill_(1)\n",
        "        self.f_rm2.zero_()\n",
        "        self.f_rv2.fill_(1)\n",
        "\n",
        "        self.g_rm1.zero_()\n",
        "        self.g_rv1.fill_(1)\n",
        "        self.g_rm2.zero_()\n",
        "        self.g_rv2.fill_(1)\n",
        "\n",
        "    def forward(self, x):\n",
        "        return RevBlockFunction.apply(\n",
        "            x,\n",
        "            self.in_channels,\n",
        "            self.out_channels,\n",
        "            self.training,\n",
        "            self.stride,\n",
        "            self.padding,\n",
        "            self.dilation,\n",
        "            self.no_activation,\n",
        "            self.activations,\n",
        "            self.storage_hooks,\n",
        "            *self._parameters.values(),\n",
        "            *self._buffers.values(),\n",
        "        )\n",
        "\n",
        "\n",
        "class RevNet(nn.Module):\n",
        "    def __init__(self,\n",
        "                 units,\n",
        "                 filters,\n",
        "                 strides,\n",
        "                 bottleneck=False):\n",
        "        \"\"\"\n",
        "        Args:\n",
        "            units (list-like): Number of residual units in each group\n",
        "            filters (list-like): Number of filters in each unit including the\n",
        "                inputlayer, so it is one item longer than units\n",
        "            strides (list-like): Strides to use for the first units in each\n",
        "                group, same length as units\n",
        "            bottleneck (boolean): Wether to use the bottleneck residual or the\n",
        "                basic residual\n",
        "        \"\"\"\n",
        "        super(RevNet, self).__init__()\n",
        "        self.name = self.__class__.__name__\n",
        "\n",
        "        self.activations = []\n",
        "\n",
        "        if bottleneck:\n",
        "            self.Reversible = RevBottleneck     # TODO: Implement RevBottleneck\n",
        "        else:\n",
        "            self.Reversible = RevBlock\n",
        "\n",
        "        self.layers = nn.ModuleList()\n",
        "        \"\"\"\n",
        "        # Input layer\n",
        "        self.layers.append(nn.Conv2d(3, filters[0], 3, padding=1))\n",
        "        self.layers.append(nn.BatchNorm2d(filters[0]))\n",
        "        \"\"\"\n",
        "        for i, group_i in enumerate(units):\n",
        "            self.layers.append(self.Reversible(\n",
        "                filters[i], filters[i + 1],\n",
        "                stride=strides[i],\n",
        "                no_activation=True,\n",
        "                activations=self.activations\n",
        "            ))\n",
        "\n",
        "            for unit in range(1, group_i):\n",
        "                self.layers.append(self.Reversible(\n",
        "                    filters[i + 1],\n",
        "                    filters[i + 1],\n",
        "                    activations=self.activations\n",
        "                ))\n",
        "\n",
        "        #self.fc = nn.Linear(filters[-1], classes)\n",
        "\n",
        "    def forward(self, x):\n",
        "        for layer in self.layers:\n",
        "            x = layer(x)\n",
        "\n",
        "        # Save last output for backward\n",
        "        self.activations.append(x.data)\n",
        "        \"\"\"\n",
        "        x = F.avg_pool2d(x, x.size(2))\n",
        "        x = x.view(x.size(0), -1)\n",
        "        x = self.fc(x)\n",
        "\n",
        "        \"\"\"\n",
        "\n",
        "        return x\n",
        "\n",
        "    def free(self):\n",
        "        \"\"\"Clear saved activation residue and thereby free memory.\"\"\"\n",
        "        del self.activations[:]"
      ],
      "execution_count": 0,
      "outputs": []
    },
    {
      "cell_type": "code",
      "metadata": {
        "id": "wreO_kdv4D02",
        "colab_type": "code",
        "outputId": "e69c7dbe-1222-43ea-caeb-8bd11e7fcef0",
        "colab": {
          "base_uri": "https://localhost:8080/",
          "height": 247
        }
      },
      "source": [
        "x = X_train[0].view(1,2,69,69)\n",
        "model = RevBlock(2,2, [])\n",
        "parameters = list(model._parameters.values())\n",
        "buffers = list(model._buffers.values())\n",
        "# self.f_params = [Variable(x) for x in parameters[:8]]\n",
        "# self.g_params = [Variable(x) for x in parameters[8:16]]\n",
        "f_param = parameters[:8]\n",
        "g_param = parameters[8:16]\n",
        "f_buff = buffers[:4]\n",
        "g_buff = buffers[4:8]\n",
        "in_channels = model.in_channels\n",
        "out_channels = model.out_channels\n",
        "training = model.training\n",
        "stride = model.stride\n",
        "no_activ= model.no_activation\n",
        "\n",
        "print(f_param)"
      ],
      "execution_count": 30,
      "outputs": [
        {
          "output_type": "stream",
          "text": [
            "[Parameter containing:\n",
            "tensor([0.1016], requires_grad=True), Parameter containing:\n",
            "tensor([0.], requires_grad=True), Parameter containing:\n",
            "tensor([[[[-0.1493, -0.2831, -0.1556],\n",
            "          [ 0.2539,  0.2035, -0.2165],\n",
            "          [ 0.1047,  0.1235,  0.0392]]]], requires_grad=True), Parameter containing:\n",
            "tensor([0.0971], requires_grad=True), Parameter containing:\n",
            "tensor([0.2978], requires_grad=True), Parameter containing:\n",
            "tensor([0.], requires_grad=True), Parameter containing:\n",
            "tensor([[[[-0.1109,  0.2205, -0.0428],\n",
            "          [-0.1075,  0.1676,  0.1489],\n",
            "          [-0.0785, -0.0878,  0.3104]]]], requires_grad=True), Parameter containing:\n",
            "tensor([-0.1549], requires_grad=True)]\n"
          ],
          "name": "stdout"
        }
      ]
    },
    {
      "cell_type": "code",
      "metadata": {
        "id": "bR-J88tL4WIV",
        "colab_type": "code",
        "outputId": "4f1c4949-ccfa-4ebe-b749-17778b99a426",
        "colab": {
          "base_uri": "https://localhost:8080/",
          "height": 34
        }
      },
      "source": [
        "y = RevBlockFunction._forward(x,in_channels,\n",
        "                              out_channels,training,\n",
        "                              stride, padding=1,dilation=1,\n",
        "                              f_params=f_param,f_buffs=f_buff,\n",
        "                              g_params=g_param, g_buffs=g_buff,\n",
        "                              no_activation=no_activ)\n",
        "print(y.size())"
      ],
      "execution_count": 31,
      "outputs": [
        {
          "output_type": "stream",
          "text": [
            "torch.Size([1, 2, 69, 69])\n"
          ],
          "name": "stdout"
        }
      ]
    },
    {
      "cell_type": "code",
      "metadata": {
        "id": "PoMSTzVNDtT7",
        "colab_type": "code",
        "outputId": "7246cde7-465a-44ea-dec8-6127dbaa21e1",
        "colab": {
          "base_uri": "https://localhost:8080/",
          "height": 496
        }
      },
      "source": [
        " z = RevBlockFunction._backward(\n",
        "            y.data,\n",
        "            in_channels,\n",
        "            out_channels,\n",
        "            padding=1,dilation=1,\n",
        "            f_params=f_param, f_buffs=f_buff,\n",
        "            g_params=g_param, g_buffs=g_buff,\n",
        "            training=training,\n",
        "            no_activation=no_activ\n",
        "        )\n",
        " print(z-x)"
      ],
      "execution_count": 33,
      "outputs": [
        {
          "output_type": "stream",
          "text": [
            "tensor([[[[ 0.0000e+00, -5.9605e-08,  0.0000e+00,  ...,  0.0000e+00,\n",
            "           -1.1921e-07,  0.0000e+00],\n",
            "          [ 0.0000e+00,  0.0000e+00,  0.0000e+00,  ...,  0.0000e+00,\n",
            "           -5.9605e-08, -5.9605e-08],\n",
            "          [ 0.0000e+00,  0.0000e+00,  0.0000e+00,  ...,  0.0000e+00,\n",
            "            0.0000e+00,  0.0000e+00],\n",
            "          ...,\n",
            "          [ 0.0000e+00,  0.0000e+00,  0.0000e+00,  ...,  0.0000e+00,\n",
            "            0.0000e+00, -1.1921e-07],\n",
            "          [ 0.0000e+00,  0.0000e+00,  0.0000e+00,  ...,  0.0000e+00,\n",
            "            0.0000e+00, -1.1921e-07],\n",
            "          [ 0.0000e+00,  0.0000e+00,  0.0000e+00,  ...,  0.0000e+00,\n",
            "            0.0000e+00,  0.0000e+00]],\n",
            "\n",
            "         [[ 0.0000e+00,  0.0000e+00,  0.0000e+00,  ...,  0.0000e+00,\n",
            "            0.0000e+00,  0.0000e+00],\n",
            "          [ 0.0000e+00,  0.0000e+00,  0.0000e+00,  ...,  0.0000e+00,\n",
            "            0.0000e+00,  0.0000e+00],\n",
            "          [ 0.0000e+00,  0.0000e+00,  0.0000e+00,  ...,  0.0000e+00,\n",
            "            0.0000e+00,  0.0000e+00],\n",
            "          ...,\n",
            "          [ 0.0000e+00,  0.0000e+00,  0.0000e+00,  ...,  0.0000e+00,\n",
            "            0.0000e+00,  0.0000e+00],\n",
            "          [ 0.0000e+00,  0.0000e+00,  0.0000e+00,  ...,  0.0000e+00,\n",
            "            0.0000e+00,  0.0000e+00],\n",
            "          [ 0.0000e+00,  0.0000e+00,  0.0000e+00,  ...,  0.0000e+00,\n",
            "            0.0000e+00,  0.0000e+00]]]])\n"
          ],
          "name": "stdout"
        }
      ]
    },
    {
      "cell_type": "markdown",
      "metadata": {
        "id": "gU2RENqj5AvW",
        "colab_type": "text"
      },
      "source": [
        "## training the model"
      ]
    },
    {
      "cell_type": "code",
      "metadata": {
        "id": "OSuTv7Wx4_8f",
        "colab_type": "code",
        "colab": {}
      },
      "source": [
        "model = RevNet(\n",
        "            units=[32,32,32],\n",
        "            filters=[2, 2, 2, 2],\n",
        "            strides=[1, 1, 1]\n",
        "            )"
      ],
      "execution_count": 0,
      "outputs": []
    },
    {
      "cell_type": "code",
      "metadata": {
        "id": "WA2JAqZ-89fP",
        "colab_type": "code",
        "colab": {}
      },
      "source": [
        "lossfunction=nn.MSELoss()\n",
        "optimizer=optim.Adam(model.parameters(), lr=0.00001)"
      ],
      "execution_count": 0,
      "outputs": []
    },
    {
      "cell_type": "code",
      "metadata": {
        "id": "hxVs8GcZ9md8",
        "colab_type": "code",
        "outputId": "38449771-092c-4a6d-9fca-14c54345dc13",
        "colab": {
          "base_uri": "https://localhost:8080/",
          "height": 372
        }
      },
      "source": [
        "epochs= 20\n",
        "batch_size= 500\n",
        "\n",
        "for i in range(epochs):\n",
        "  #running_loss=0 \n",
        "  for j in range(0,len(X_train), batch_size):\n",
        "    X = X_train[j:j+batch_size].view(-1, 2, 69, 69)\n",
        "    Y = Y_train[j:j+batch_size].view(-1, 2, 69, 69)\n",
        "    if CUDA:\n",
        "      model.cuda()\n",
        "      X=Variable(X.cuda())\n",
        "      Y=Variable(Y.cuda())\n",
        "    optimizer.zero_grad()\n",
        "    outputs = model(X)\n",
        "    loss = lossfunction(outputs, Y)\n",
        "    loss.backward()\n",
        "    optimizer.step()\n",
        "    #running_loss+=loss.item()\n",
        "\n",
        "    if j==5000:\n",
        "      print(\"epoch=\",i,\"; running_loss=\", loss.item())"
      ],
      "execution_count": 69,
      "outputs": [
        {
          "output_type": "stream",
          "text": [
            "epoch= 0 ; running_loss= 7.549257755279541\n",
            "epoch= 1 ; running_loss= 7.345979690551758\n",
            "epoch= 2 ; running_loss= 7.150378704071045\n",
            "epoch= 3 ; running_loss= 6.9618072509765625\n",
            "epoch= 4 ; running_loss= 6.780416011810303\n",
            "epoch= 5 ; running_loss= 6.605658054351807\n",
            "epoch= 6 ; running_loss= 6.43751859664917\n",
            "epoch= 7 ; running_loss= 6.2765421867370605\n",
            "epoch= 8 ; running_loss= 6.121992111206055\n",
            "epoch= 9 ; running_loss= 5.974196910858154\n",
            "epoch= 10 ; running_loss= 5.833167552947998\n",
            "epoch= 11 ; running_loss= 5.697700023651123\n",
            "epoch= 12 ; running_loss= 5.56724214553833\n",
            "epoch= 13 ; running_loss= 5.441283702850342\n",
            "epoch= 14 ; running_loss= 5.31949520111084\n",
            "epoch= 15 ; running_loss= 5.2014241218566895\n",
            "epoch= 16 ; running_loss= 5.086554050445557\n",
            "epoch= 17 ; running_loss= 4.9745283126831055\n",
            "epoch= 18 ; running_loss= 4.865401268005371\n",
            "epoch= 19 ; running_loss= 4.758962631225586\n"
          ],
          "name": "stdout"
        }
      ]
    },
    {
      "cell_type": "code",
      "metadata": {
        "id": "t4ipQbC9hk4H",
        "colab_type": "code",
        "colab": {}
      },
      "source": [
        "outputs=model.forward(Variable(X_test[0:100].cuda()))"
      ],
      "execution_count": 0,
      "outputs": []
    },
    {
      "cell_type": "code",
      "metadata": {
        "id": "BcDjvWrAuvNj",
        "colab_type": "code",
        "outputId": "839ef8b2-1fa0-47f3-dbd6-2c7b860642dd",
        "colab": {
          "base_uri": "https://localhost:8080/",
          "height": 34
        }
      },
      "source": [
        "outputs.shape"
      ],
      "execution_count": 78,
      "outputs": [
        {
          "output_type": "execute_result",
          "data": {
            "text/plain": [
              "torch.Size([100, 2, 69, 69])"
            ]
          },
          "metadata": {
            "tags": []
          },
          "execution_count": 78
        }
      ]
    },
    {
      "cell_type": "code",
      "metadata": {
        "id": "VnV5QCrLu1V8",
        "colab_type": "code",
        "colab": {}
      },
      "source": [
        ""
      ],
      "execution_count": 0,
      "outputs": []
    },
    {
      "cell_type": "code",
      "metadata": {
        "id": "ulEHNN9JvVwj",
        "colab_type": "code",
        "colab": {
          "base_uri": "https://localhost:8080/",
          "height": 518
        },
        "outputId": "a9a28338-7a5b-49ce-952a-175214e9aede"
      },
      "source": [
        "i=43\n",
        "plt.figure()\n",
        "imgplot=plt.imshow(Y_test[i][0])\n",
        "plt.colorbar()\n",
        "plt.show()\n",
        "\n",
        "plt.figure()\n",
        "imgplot=plt.imshow(outputs.data[i][0].cpu().detach().numpy())\n",
        "plt.colorbar()\n",
        "plt.show()"
      ],
      "execution_count": 90,
      "outputs": [
        {
          "output_type": "display_data",
          "data": {
            "image/png": "[encoded data removed]",
            "text/plain": [
              "<Figure size 432x288 with 2 Axes>"
            ]
          },
          "metadata": {
            "tags": [],
            "needs_background": "light"
          }
        },
        {
          "output_type": "display_data",
          "data": {
            "image/png": "[encoded data removed]",
            "text/plain": [
              "<Figure size 432x288 with 2 Axes>"
            ]
          },
          "metadata": {
            "tags": [],
            "needs_background": "light"
          }
        }
      ]
    },
    {
      "cell_type": "code",
      "metadata": {
        "id": "6S3MXWUAT46B",
        "colab_type": "code",
        "colab": {}
      },
      "source": [
        ""
      ],
      "execution_count": 0,
      "outputs": []
    }
  ]
}