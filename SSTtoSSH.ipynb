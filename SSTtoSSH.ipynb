{
  "nbformat": 4,
  "nbformat_minor": 0,
  "metadata": {
    "colab": {
      "name": "SSTtoSSH.ipynb",
      "provenance": [],
      "collapsed_sections": [],
      "toc_visible": true,
      "machine_shape": "hm",
      "authorship_tag": "ABX9TyOW6mogjIUrfHXWgom0Iq0d",
      "include_colab_link": true
    },
    "kernelspec": {
      "name": "python3",
      "display_name": "Python 3"
    },
    "accelerator": "GPU"
  },
  "cells": [
    {
      "cell_type": "markdown",
      "metadata": {
        "id": "view-in-github",
        "colab_type": "text"
      },
      "source": [
        "<a href=\"https://colab.research.google.com/github/MMAMAR/stage-/blob/master/SSTtoSSH.ipynb\" target=\"_parent\"><img src=\"https://colab.research.google.com/assets/colab-badge.svg\" alt=\"Open In Colab\"/></a>"
      ]
    },
    {
      "cell_type": "code",
      "metadata": {
        "id": "E3QdkBjpjkGl",
        "colab_type": "code",
        "outputId": "48076811-6c38-452a-a10f-2dbf84f253c2",
        "colab": {
          "base_uri": "https://localhost:8080/",
          "height": 196
        }
      },
      "source": [
        "!pip install netcdf4"
      ],
      "execution_count": 1,
      "outputs": [
        {
          "output_type": "stream",
          "text": [
            "Collecting netcdf4\n",
            "\u001b[?25l  Downloading https://files.pythonhosted.org/packages/35/4f/d49fe0c65dea4d2ebfdc602d3e3d2a45a172255c151f4497c43f6d94a5f6/netCDF4-1.5.3-cp36-cp36m-manylinux1_x86_64.whl (4.1MB)\n",
            "\u001b[K     |████████████████████████████████| 4.1MB 3.4MB/s \n",
            "\u001b[?25hRequirement already satisfied: numpy>=1.7 in /usr/local/lib/python3.6/dist-packages (from netcdf4) (1.18.2)\n",
            "Collecting cftime\n",
            "\u001b[?25l  Downloading https://files.pythonhosted.org/packages/a0/ff/38302691a715e59084e71464ffc4288d0513f51b4baca4f6c1b5bd865ede/cftime-1.1.1.2-cp36-cp36m-manylinux1_x86_64.whl (328kB)\n",
            "\u001b[K     |████████████████████████████████| 337kB 48.2MB/s \n",
            "\u001b[?25hInstalling collected packages: cftime, netcdf4\n",
            "Successfully installed cftime-1.1.1.2 netcdf4-1.5.3\n"
          ],
          "name": "stdout"
        }
      ]
    },
    {
      "cell_type": "code",
      "metadata": {
        "id": "CuSwYuWdWQDD",
        "colab_type": "code",
        "outputId": "d6d3a1c7-2b3d-41c5-a4c2-6f027f603f8e",
        "colab": {
          "base_uri": "https://localhost:8080/",
          "height": 125
        }
      },
      "source": [
        "# mount gdrive\n",
        "from google.colab import drive\n",
        "drive.mount('/content/drive')\n"
      ],
      "execution_count": 2,
      "outputs": [
        {
          "output_type": "stream",
          "text": [
            "Go to this URL in a browser: https://accounts.google.com/o/oauth2/auth?client_id=947318989803-6bn6qk8qdgf4n4g3pfee6491hc0brc4i.apps.googleusercontent.com&redirect_uri=urn%3aietf%3awg%3aoauth%3a2.0%3aoob&response_type=code&scope=email%20https%3a%2f%2fwww.googleapis.com%2fauth%2fdocs.test%20https%3a%2f%2fwww.googleapis.com%2fauth%2fdrive%20https%3a%2f%2fwww.googleapis.com%2fauth%2fdrive.photos.readonly%20https%3a%2f%2fwww.googleapis.com%2fauth%2fpeopleapi.readonly\n",
            "\n",
            "Enter your authorization code:\n",
            "··········\n",
            "Mounted at /content/drive\n"
          ],
          "name": "stdout"
        }
      ]
    },
    {
      "cell_type": "code",
      "metadata": {
        "id": "DTU4HEMMXeKv",
        "colab_type": "code",
        "colab": {}
      },
      "source": [
        "import os\n",
        "from netCDF4 import Dataset\n",
        "import matplotlib.pyplot as plt\n",
        "import numpy as np\n",
        "from sklearn.utils import shuffle\n",
        "import torch\n",
        "import torchvision\n",
        "import torchvision.transforms as transforms\n",
        "import torch.nn as nn\n",
        "import torch.nn.functional as F\n",
        "import torch.optim as optim\n",
        "from sklearn.feature_extraction import image\n",
        "from netCDF4 import Dataset\n",
        "import numpy.ma as ma"
      ],
      "execution_count": 0,
      "outputs": []
    },
    {
      "cell_type": "code",
      "metadata": {
        "id": "HjYBiJ8Mj9A4",
        "colab_type": "code",
        "outputId": "487c7737-5e3d-4244-81a6-a3e902947763",
        "colab": {
          "base_uri": "https://localhost:8080/",
          "height": 158
        }
      },
      "source": [
        "os.chdir('/content/drive/My Drive/')\n",
        "!pwd\n",
        "!ls /content/drive/My\\ Drive/CMEMSData"
      ],
      "execution_count": 4,
      "outputs": [
        {
          "output_type": "stream",
          "text": [
            "/content/drive/My Drive\n",
            "global-analysis-forecast-phy-001-024-201810.nc\n",
            "global-analysis-forecast-phy-001-024-201811.nc\n",
            "global-analysis-forecast-phy-001-024-201812.nc\n",
            "global-analysis-forecast-phy-001-024-201901.nc\n",
            "global-analysis-forecast-phy-001-024-201902.nc\n",
            "global-analysis-forecast-phy-001-024-201903.nc\n",
            "global-analysis-forecast-phy-001-024-201904.nc\n"
          ],
          "name": "stdout"
        }
      ]
    },
    {
      "cell_type": "code",
      "metadata": {
        "id": "TROvxRmXkls1",
        "colab_type": "code",
        "outputId": "06333656-4c3b-4a82-f4e6-b61b5a23b2e0",
        "colab": {
          "base_uri": "https://localhost:8080/",
          "height": 158
        }
      },
      "source": [
        "X_train=[]\n",
        "Y_train=[]\n",
        "X_test=[]\n",
        "Y_test=[]\n",
        "Maskes=[]\n",
        "train_files=['global-analysis-forecast-phy-001-024-201812.nc','global-analysis-forecast-phy-001-024-201902.nc']\n",
        "test_files=['global-analysis-forecast-phy-001-024-201901.nc']\n",
        "\n",
        "# trainning data\n",
        "\n",
        "for f in train_files:\n",
        "  nc_data     = Dataset('./CMEMSData/'+f,'r')\n",
        "  ssh = nc_data['zos'][:,:,:]\n",
        "  sst = nc_data['thetao'][:,0,:,:]\n",
        "  for i in range(len(sst)):\n",
        "    X=np.flipud(sst[i,:,:]).data\n",
        "    Y=np.flipud(ssh[i,:,:]).data\n",
        "    XY_mask=np.flipud(ssh[i,:,:]).mask\n",
        "    X_patches=image.extract_patches_2d(X, (50, 50), max_patches= 100, random_state=0)\n",
        "    Y_patches=image.extract_patches_2d(Y, (50, 50), max_patches= 100, random_state=0)\n",
        "    Mask_patches=image.extract_patches_2d(XY_mask, (50, 50), max_patches= 100, random_state=0)\n",
        "\n",
        "    for j in range(len(X_patches)):\n",
        "      X_train.append(X_patches[j])\n",
        "      Y_train.append(Y_patches[j])\n",
        "      Maskes.append(Mask_patches[j])\n",
        "\n",
        "x_train=[]\n",
        "y_train=[]\n",
        "\n",
        "for i in range(len(X_train)):\n",
        "  if np.sum(Maskes[i]==True)==0:\n",
        "    x_train.append(X_train[i])\n",
        "    y_train.append(Y_train[i])\n",
        "\n",
        "print(len(x_train))\n",
        "print(len(y_train))\n",
        "\n",
        "#test data\n",
        "\n",
        "Maskes=[]\n",
        "for f in test_files:\n",
        "  nc_data     = Dataset('./CMEMSData/'+f,'r')\n",
        "  ssh = nc_data['zos'][:,:,:]\n",
        "  sst = nc_data['thetao'][:,0,:,:]\n",
        "  for i in range(len(sst)):\n",
        "    X=np.flipud(sst[i,:,:]).data\n",
        "    Y=np.flipud(ssh[i,:,:]).data\n",
        "    XY_mask=np.flipud(ssh[i,:,:]).mask\n",
        "    X_patches=image.extract_patches_2d(X, (50, 50), max_patches= 100, random_state=0)\n",
        "    Y_patches=image.extract_patches_2d(Y, (50, 50), max_patches= 100, random_state=0)\n",
        "    Mask_patches=image.extract_patches_2d(XY_mask, (50, 50), max_patches= 100, random_state=0)\n",
        "\n",
        "    for j in range(len(X_patches)):\n",
        "      X_test.append(X_patches[j])\n",
        "      Y_test.append(Y_patches[j])\n",
        "      Maskes.append(Mask_patches[j])\n",
        "\n",
        "x_test=[]\n",
        "y_test=[]\n",
        "\n",
        "for i in range(len(X_test)):\n",
        "  if np.sum(Maskes[i]==True)==0:\n",
        "    x_test.append(X_test[i])\n",
        "    y_test.append(Y_test[i])\n",
        "\n",
        "print(len(x_test))\n",
        "print(len(y_test))\n",
        "X=[x_train,x_test]\n",
        "Y=[y_train,y_test]\n",
        "Mx1=np.array([np.mean(x) for x in x_train]).mean()\n",
        "My1=np.array([np.mean(y) for y in y_train]).mean()\n",
        "Mx2=np.array([np.mean(x) for x in x_test]).mean()\n",
        "My2=np.array([np.mean(y) for y in y_test]).mean()\n",
        "print(Mx1)\n",
        "print(My1)\n",
        "print(Mx2)\n",
        "print(My2)\n",
        "\n",
        "#Moyenne non spacialisée\n",
        "\n",
        "x_train=np.array(x_train)\n",
        "y_train=np.array(y_train)\n",
        "x_test=np.array(x_test)\n",
        "y_test=np.array(y_test)\n",
        "\n",
        "x_train=x_train-Mx1\n",
        "y_train=y_train-My1\n",
        "x_test=x_test-Mx2\n",
        "y_test=y_test-My2\n",
        "\n",
        "x_train,y_train=shuffle(x_train,y_train, random_state=0)\n",
        "x_test,y_test=shuffle(x_test,y_test, random_state=0)\n",
        "\n",
        "x_train=torch.Tensor(x_train)\n",
        "y_train=torch.Tensor(y_train)\n",
        "x_test=torch.Tensor(x_test)\n",
        "y_test=torch.Tensor(y_test)"
      ],
      "execution_count": 5,
      "outputs": [
        {
          "output_type": "stream",
          "text": [
            "5605\n",
            "5605\n",
            "2945\n",
            "2945\n",
            "15.594807103916969\n",
            "0.0060345840484668225\n",
            "15.615132012611205\n",
            "0.02577029756980937\n"
          ],
          "name": "stdout"
        }
      ]
    },
    {
      "cell_type": "code",
      "metadata": {
        "id": "nihbsDUKReyJ",
        "colab_type": "code",
        "outputId": "77992f67-f845-4c7d-bedb-0fbb1f7478f4",
        "colab": {
          "base_uri": "https://localhost:8080/",
          "height": 534
        }
      },
      "source": [
        "plt.figure()\n",
        "plt.imshow(ma.masked_array(x_test[1],mask=np.zeros((50,50))))\n",
        "plt.colorbar()\n",
        "\n",
        "plt.figure()\n",
        "plt.imshow(ma.masked_array(y_test[1],mask=np.zeros((50,50))))\n",
        "plt.colorbar()"
      ],
      "execution_count": 6,
      "outputs": [
        {
          "output_type": "execute_result",
          "data": {
            "text/plain": [
              "<matplotlib.colorbar.Colorbar at 0x7f2062d92ba8>"
            ]
          },
          "metadata": {
            "tags": []
          },
          "execution_count": 6
        },
        {
          "output_type": "display_data",
          "data": {
            "image/png": "[encoded data removed]",
            "text/plain": [
              "<Figure size 432x288 with 2 Axes>"
            ]
          },
          "metadata": {
            "tags": [],
            "needs_background": "light"
          }
        },
        {
          "output_type": "display_data",
          "data": {
            "image/png": "[encoded data removed]",
            "text/plain": [
              "<Figure size 432x288 with 2 Axes>"
            ]
          },
          "metadata": {
            "tags": [],
            "needs_background": "light"
          }
        }
      ]
    },
    {
      "cell_type": "markdown",
      "metadata": {
        "id": "aRJwrdjk4Tb-",
        "colab_type": "text"
      },
      "source": [
        "## Building teh Model \n"
      ]
    },
    {
      "cell_type": "code",
      "metadata": {
        "id": "BjhrkaPX4W1w",
        "colab_type": "code",
        "colab": {}
      },
      "source": [
        "class Net(nn.Module):\n",
        "    def __init__(self):\n",
        "        super(Net, self).__init__()\n",
        "        self.conv1 = nn.Conv2d(1, 64, 3,padding= (1,1))\n",
        "        self.conv2 = nn.Conv2d(64, 64, 3,padding= (1,1))\n",
        "        self.conv3 = nn.Conv2d(64, 1, 3,padding= (1,1))\n",
        "    \n",
        "    def forward(self, x):\n",
        "      x=F.relu(self.conv1(x))\n",
        "      x=F.relu(self.conv2(x))\n",
        "      x=self.conv3(x)\n",
        "\n",
        "      return(x)\n",
        "net= Net()"
      ],
      "execution_count": 0,
      "outputs": []
    },
    {
      "cell_type": "code",
      "metadata": {
        "id": "nFsHyBEMF88F",
        "colab_type": "code",
        "colab": {}
      },
      "source": [
        "lossfunction=nn.MSELoss()\n",
        "optimizer=optim.Adam(net.parameters(), lr=0.00001)\n"
      ],
      "execution_count": 0,
      "outputs": []
    },
    {
      "cell_type": "code",
      "metadata": {
        "id": "0E5p52jxF-M2",
        "colab_type": "code",
        "outputId": "1cb1cfbe-4684-436d-b4dd-3815d788a8ec",
        "colab": {
          "base_uri": "https://localhost:8080/",
          "height": 372
        }
      },
      "source": [
        "epochs= 20\n",
        "batch_size= 1000\n",
        "\n",
        "for i in range(epochs):\n",
        "  #running_loss=0 \n",
        "  x_train,y_train=shuffle(x_train,y_train, random_state=0)\n",
        "  x_train,y_train=shuffle(x_train,y_train, random_state=0)\n",
        "  for j in range(0,len(x_train), batch_size):\n",
        "    X = x_train[j:j+batch_size].view(-1, 1, 50, 50)\n",
        "    Y = y_train[j:j+batch_size].view(-1, 1, 50, 50)\n",
        "    optimizer.zero_grad()\n",
        "    outputs = net(X)\n",
        "    loss = lossfunction(outputs, Y)\n",
        "    loss.backward()\n",
        "    optimizer.step()\n",
        "    #running_loss+=loss.item()\n",
        "\n",
        "    if j==5000:\n",
        "      print(\"epoch=\",i,\"; running_loss=\", loss.item())\n",
        "       \n"
      ],
      "execution_count": 45,
      "outputs": [
        {
          "output_type": "stream",
          "text": [
            "epoch= 0 ; running_loss= 0.20672181248664856\n",
            "epoch= 1 ; running_loss= 0.1621646285057068\n",
            "epoch= 2 ; running_loss= 0.12692388892173767\n",
            "epoch= 3 ; running_loss= 0.09962140768766403\n",
            "epoch= 4 ; running_loss= 0.08618023991584778\n",
            "epoch= 5 ; running_loss= 0.08062721788883209\n",
            "epoch= 6 ; running_loss= 0.07345497608184814\n",
            "epoch= 7 ; running_loss= 0.0686408132314682\n",
            "epoch= 8 ; running_loss= 0.062016136944293976\n",
            "epoch= 9 ; running_loss= 0.06214370205998421\n",
            "epoch= 10 ; running_loss= 0.0701402947306633\n",
            "epoch= 11 ; running_loss= 0.06331358104944229\n",
            "epoch= 12 ; running_loss= 0.05961497500538826\n",
            "epoch= 13 ; running_loss= 0.062404830008745193\n",
            "epoch= 14 ; running_loss= 0.06232231855392456\n",
            "epoch= 15 ; running_loss= 0.061581168323755264\n",
            "epoch= 16 ; running_loss= 0.0580265037715435\n",
            "epoch= 17 ; running_loss= 0.059470176696777344\n",
            "epoch= 18 ; running_loss= 0.058483704924583435\n",
            "epoch= 19 ; running_loss= 0.05954792723059654\n"
          ],
          "name": "stdout"
        }
      ]
    },
    {
      "cell_type": "code",
      "metadata": {
        "id": "TUuBi0hgajvt",
        "colab_type": "code",
        "colab": {}
      },
      "source": [
        "outputs=net.forward(x_test.view(-1, 1, 50, 50))"
      ],
      "execution_count": 0,
      "outputs": []
    },
    {
      "cell_type": "code",
      "metadata": {
        "id": "u9PXkM-JQE3Y",
        "colab_type": "code",
        "colab": {}
      },
      "source": [
        "outputs=outputs.view(-1,50,50)"
      ],
      "execution_count": 0,
      "outputs": []
    },
    {
      "cell_type": "code",
      "metadata": {
        "id": "kBWqvuECTbv_",
        "colab_type": "code",
        "outputId": "3bbdf3b9-c51a-4a96-ef6e-df517e8a4349",
        "colab": {
          "base_uri": "https://localhost:8080/",
          "height": 535
        }
      },
      "source": [
        "i=9\n",
        "plt.figure()\n",
        "plt.imshow(ma.masked_array(outputs[i].data,mask=np.zeros((50,50))))\n",
        "plt.colorbar()\n",
        "\n",
        "plt.figure()\n",
        "plt.imshow(ma.masked_array(y_test[i],mask=np.zeros((50,50))))\n",
        "plt.colorbar()\n",
        "\n",
        "loss_fn = nn.MSELoss()\n",
        "MSE=loss_fn(outputs[i].data,y_test[i])\n",
        "print(MSE)\n"
      ],
      "execution_count": 48,
      "outputs": [
        {
          "output_type": "stream",
          "text": [
            "tensor(0.0089)\n"
          ],
          "name": "stdout"
        },
        {
          "output_type": "display_data",
          "data": {
            "image/png": "[encoded data removed]",
            "text/plain": [
              "<Figure size 432x288 with 2 Axes>"
            ]
          },
          "metadata": {
            "tags": [],
            "needs_background": "light"
          }
        },
        {
          "output_type": "display_data",
          "data": {
            "image/png": "[encoded data removed]",
            "text/plain": [
              "<Figure size 432x288 with 2 Axes>"
            ]
          },
          "metadata": {
            "tags": [],
            "needs_background": "light"
          }
        }
      ]
    },
    {
      "cell_type": "code",
      "metadata": {
        "id": "sYN7A_J_5EwS",
        "colab_type": "code",
        "outputId": "0ec773bc-cf94-4fb4-c4ce-c87897970172",
        "colab": {
          "base_uri": "https://localhost:8080/",
          "height": 34
        }
      },
      "source": [
        "\n",
        "MSE=loss_fn(outputs.data,y_test)\n",
        "eff=1-MSE/y_test.var()\n",
        "print(\"efficience: \", float(eff.data))"
      ],
      "execution_count": 49,
      "outputs": [
        {
          "output_type": "stream",
          "text": [
            "efficience:  0.7202023267745972\n"
          ],
          "name": "stdout"
        }
      ]
    },
    {
      "cell_type": "markdown",
      "metadata": {
        "id": "WvXJ2TU2wgEw",
        "colab_type": "text"
      },
      "source": [
        "## Evaluation par le laplacien \n"
      ]
    },
    {
      "cell_type": "code",
      "metadata": {
        "id": "EIKtOabMwkVr",
        "colab_type": "code",
        "colab": {
          "base_uri": "https://localhost:8080/",
          "height": 34
        },
        "outputId": "5e784996-821c-4d5f-dd08-9e5265ca41ac"
      },
      "source": [
        "from scipy.sparse import csgraph\n",
        "\n",
        "output_laplacian= []\n",
        "test_laplacian= []\n",
        "for i in range(len(y_test)):\n",
        "  output_laplacian.append(csgraph.laplacian(outputs.data[i]))\n",
        "  test_laplacian.append(csgraph.laplacian(y_test[i]))\n",
        "output_laplacian= torch.Tensor(output_laplacian)\n",
        "test_laplacian= torch.Tensor(test_laplacian)\n",
        "\n",
        "\n",
        "MSE=loss_fn(output_laplacian, test_laplacian)\n",
        "eff=1-MSE/test_laplacian.var()\n",
        "print(\"lapalacian_efficience: \", float(eff))"
      ],
      "execution_count": 55,
      "outputs": [
        {
          "output_type": "stream",
          "text": [
            "lapalacian_efficience:  0.834850549697876\n"
          ],
          "name": "stdout"
        }
      ]
    },
    {
      "cell_type": "code",
      "metadata": {
        "id": "sfM3eP794sKj",
        "colab_type": "code",
        "colab": {}
      },
      "source": [
        ""
      ],
      "execution_count": 0,
      "outputs": []
    }
  ]
}