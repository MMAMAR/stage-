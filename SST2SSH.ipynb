{
  "nbformat": 4,
  "nbformat_minor": 0,
  "metadata": {
    "colab": {
      "name": "SST2SSH",
      "provenance": [],
      "toc_visible": true,
      "machine_shape": "hm",
      "authorship_tag": "ABX9TyOzxzC0j0qMe6AdFoC9QQc9",
      "include_colab_link": true
    },
    "kernelspec": {
      "name": "python3",
      "display_name": "Python 3"
    }
  },
  "cells": [
    {
      "cell_type": "markdown",
      "metadata": {
        "id": "view-in-github",
        "colab_type": "text"
      },
      "source": [
        "<a href=\"https://colab.research.google.com/github/MMAMAR/stage-/blob/master/SST2SSH.ipynb\" target=\"_parent\"><img src=\"https://colab.research.google.com/assets/colab-badge.svg\" alt=\"Open In Colab\"/></a>"
      ]
    },
    {
      "cell_type": "code",
      "metadata": {
        "id": "1LH0QZ7-p2oZ",
        "colab_type": "code",
        "outputId": "0ed6b371-05cf-4ce0-dc4e-b8f6d389c0bc",
        "colab": {
          "base_uri": "https://localhost:8080/",
          "height": 196
        }
      },
      "source": [
        "!pip install netCDF4\n",
        "import netCDF4\n",
        "import numpy as np\n",
        "\n",
        "from datetime import datetime,date\n",
        "import matplotlib.pyplot as plt \n",
        "import os"
      ],
      "execution_count": 2,
      "outputs": [
        {
          "output_type": "stream",
          "text": [
            "Collecting netCDF4\n",
            "\u001b[?25l  Downloading https://files.pythonhosted.org/packages/35/4f/d49fe0c65dea4d2ebfdc602d3e3d2a45a172255c151f4497c43f6d94a5f6/netCDF4-1.5.3-cp36-cp36m-manylinux1_x86_64.whl (4.1MB)\n",
            "\u001b[K     |████████████████████████████████| 4.1MB 2.7MB/s \n",
            "\u001b[?25hRequirement already satisfied: numpy>=1.7 in /usr/local/lib/python3.6/dist-packages (from netCDF4) (1.18.4)\n",
            "Collecting cftime\n",
            "\u001b[?25l  Downloading https://files.pythonhosted.org/packages/c3/a7/e32404add6225b1f5a2b9efed6aa5bba918da637c8dd6cf85fe4ad7bfdc4/cftime-1.1.2-cp36-cp36m-manylinux1_x86_64.whl (320kB)\n",
            "\u001b[K     |████████████████████████████████| 327kB 54.6MB/s \n",
            "\u001b[?25hInstalling collected packages: cftime, netCDF4\n",
            "Successfully installed cftime-1.1.2 netCDF4-1.5.3\n"
          ],
          "name": "stdout"
        }
      ]
    },
    {
      "cell_type": "code",
      "metadata": {
        "id": "omcmvRq9qGtD",
        "colab_type": "code",
        "outputId": "77c40c50-a079-4549-fd7b-18586e7ba6a3",
        "colab": {
          "base_uri": "https://localhost:8080/",
          "height": 125
        }
      },
      "source": [
        "from google.colab import drive\n",
        "drive.mount('/content/drive')"
      ],
      "execution_count": 3,
      "outputs": [
        {
          "output_type": "stream",
          "text": [
            "Go to this URL in a browser: https://accounts.google.com/o/oauth2/auth?client_id=947318989803-6bn6qk8qdgf4n4g3pfee6491hc0brc4i.apps.googleusercontent.com&redirect_uri=urn%3aietf%3awg%3aoauth%3a2.0%3aoob&response_type=code&scope=email%20https%3a%2f%2fwww.googleapis.com%2fauth%2fdocs.test%20https%3a%2f%2fwww.googleapis.com%2fauth%2fdrive%20https%3a%2f%2fwww.googleapis.com%2fauth%2fdrive.photos.readonly%20https%3a%2f%2fwww.googleapis.com%2fauth%2fpeopleapi.readonly\n",
            "\n",
            "Enter your authorization code:\n",
            "··········\n",
            "Mounted at /content/drive\n"
          ],
          "name": "stdout"
        }
      ]
    },
    {
      "cell_type": "code",
      "metadata": {
        "id": "3VTkA6ifqwW9",
        "colab_type": "code",
        "colab": {}
      },
      "source": [
        "import pandas as pd\n",
        "import requests\n"
      ],
      "execution_count": 0,
      "outputs": []
    },
    {
      "cell_type": "code",
      "metadata": {
        "id": "VsTUb3Grq9zm",
        "colab_type": "code",
        "colab": {}
      },
      "source": [
        "import os\n",
        "os.chdir('/content/drive/My Drive')\n",
        "import lap_diffusionMask\n",
        "from scipy import interpolate"
      ],
      "execution_count": 0,
      "outputs": []
    },
    {
      "cell_type": "code",
      "metadata": {
        "id": "7WIJUXdQy3xh",
        "colab_type": "code",
        "colab": {}
      },
      "source": [
        "import scipy.fftpack as fftpack\n",
        "from scipy import ndimage\n",
        "def compute_PSD1D(I):\n",
        "\n",
        "    W = np.reshape(np.hanning(I.shape[0]),(I.shape[0],1)) * np.reshape(np.hanning(I.shape[1]),(I.shape[1],1)).transpose() \n",
        "\n",
        "    F1 = fftpack.fft2( W * I) \n",
        "    F2 = fftpack.fftshift( F1 ) \n",
        "    psd2D = np.abs( F2 )**2\n",
        "    \n",
        "    h  = psd2D.shape[0]\n",
        "    w  = psd2D.shape[1]\n",
        "    wc = w//2\n",
        "    hc = h//2\n",
        "\n",
        "    # create an array of integer radial distances from the center\n",
        "    Y, X = np.ogrid[0:h, 0:w]\n",
        "    r    = np.hypot(X - wc, Y - hc).astype(np.int)\n",
        "\n",
        "    # SUM all psd2D pixels with label 'r' for 0<=r<=wc\n",
        "    # NOTE: this will miss power contributions in 'corners' r>wc\n",
        "    psd1D = ndimage.sum(psd2D, r, index=np.arange(0, wc))\n",
        "\n",
        "    return psd1D\n"
      ],
      "execution_count": 0,
      "outputs": []
    },
    {
      "cell_type": "code",
      "metadata": {
        "id": "8L2DOyMRRDTO",
        "colab_type": "code",
        "outputId": "5e6b5626-dc44-49b0-fa7a-d69400c3c563",
        "colab": {
          "base_uri": "https://localhost:8080/",
          "height": 34
        }
      },
      "source": [
        "#os.chdir('/Users/rfablet/Research/Data')\n",
        "## test for filtering\n",
        "filename = '/content/drive/My Drive/CMEMSData/global-analysis-forecast-phy-001-024-201901.nc'\n",
        "\n",
        "## field info\n",
        "SSHfieldname     = 'zos'\n",
        "SSTfieldname     = 'thetao'\n",
        "Latfieldname    = 'latitude'\n",
        "Lonfieldname    = 'longitude'\n",
        "Timefieldname   = 'time' ## time given in seconds\n",
        "\n",
        "        \n",
        "print('..... Open monthly file: '+filename)\n",
        "nc_fid = netCDF4.Dataset(filename,'r')\n",
        "\n",
        "Lats=nc_fid[Latfieldname]\n",
        "Lons=nc_fid[Lonfieldname]\n",
        "sstfield = nc_fid['thetao'][:,0,:,:]\n",
        "sstfield=sstfield[0]\n",
        "sstfield=sstfield.reshape(241,601)\n",
        "Lats=Lats[0:50]\n",
        "Lons=Lons[0:50]"
      ],
      "execution_count": 8,
      "outputs": [
        {
          "output_type": "stream",
          "text": [
            "..... Open monthly file: /content/drive/My Drive/CMEMSData/global-analysis-forecast-phy-001-024-201901.nc\n"
          ],
          "name": "stdout"
        }
      ]
    },
    {
      "cell_type": "code",
      "metadata": {
        "id": "-_TAYbWoCglo",
        "colab_type": "code",
        "outputId": "d8b3d2dc-f3df-4eef-d7bc-216134628885",
        "colab": {
          "base_uri": "https://localhost:8080/",
          "height": 266
        }
      },
      "source": [
        "from sklearn.feature_extraction import image\n",
        "X_patches=image.extract_patches_2d(sstfield, (50, 50), max_patches= 100, random_state=0)\n",
        "Mask_patches=image.extract_patches_2d(sstfield.mask, (50, 50), max_patches= 100, random_state=0)\n",
        "\n",
        "x_train=[]\n",
        "maskes=[]\n",
        "\n",
        "for i in range(len(X_patches)):\n",
        "  if np.sum(Mask_patches[i]==True)==0:\n",
        "    x_train.append(X_patches[i])\n",
        "    maskes.append(Mask_patches[i])\n",
        "\n",
        "plt.figure()\n",
        "plt.imshow(x_train[0])\n",
        "plt.show()\n",
        "\n",
        "sstfield=x_train[1]"
      ],
      "execution_count": 9,
      "outputs": [
        {
          "output_type": "display_data",
          "data": {
            "image/png": "[encoded data removed]",
            "text/plain": [
              "<Figure size 432x288 with 1 Axes>"
            ]
          },
          "metadata": {
            "tags": [],
            "needs_background": "light"
          }
        }
      ]
    },
    {
      "cell_type": "markdown",
      "metadata": {
        "id": "pWUMDfn_rUbP",
        "colab_type": "text"
      },
      "source": [
        "# tag mohamed"
      ]
    },
    {
      "cell_type": "code",
      "metadata": {
        "id": "O1WVEXprf_nj",
        "colab_type": "code",
        "outputId": "e4196a37-ada3-4ad3-948f-c86adc877494",
        "colab": {
          "base_uri": "https://localhost:8080/",
          "height": 534
        }
      },
      "source": [
        "\n",
        "plt.figure(1)\n",
        "imgplot=plt.imshow(np.flipud(sstfield))\n",
        "\n",
        "plt.colorbar()\n",
        "plt.show()\n",
        "\n",
        "\n",
        "\n",
        "print(\"....... Filtering fine-scale for regridding\")\n",
        "LamScale   = 0.2\n",
        "\n",
        "IterScale  = 100\n",
        "if IterScale > 0:\n",
        "    sstFilt_HR = lap_diffusionMask.lap_diffusionMask(sstfield,IterScale,LamScale)\n",
        "else:\n",
        "    sstFilt_HR = sstfield.copy()\n",
        "\n",
        "\n",
        "\n",
        "plt.figure(2)\n",
        "imgplot=plt.imshow(np.flipud(sstFilt_HR))\n",
        "plt.colorbar()\n",
        "plt.show()\n",
        "\n",
        "\n"
      ],
      "execution_count": 10,
      "outputs": [
        {
          "output_type": "display_data",
          "data": {
            "image/png": "[encoded data removed]",
            "text/plain": [
              "<Figure size 432x288 with 2 Axes>"
            ]
          },
          "metadata": {
            "tags": [],
            "needs_background": "light"
          }
        },
        {
          "output_type": "stream",
          "text": [
            "....... Filtering fine-scale for regridding\n"
          ],
          "name": "stdout"
        },
        {
          "output_type": "display_data",
          "data": {
            "image/png": "[encoded data removed]",
            "text/plain": [
              "<Figure size 432x288 with 2 Axes>"
            ]
          },
          "metadata": {
            "tags": [],
            "needs_background": "light"
          }
        }
      ]
    },
    {
      "cell_type": "code",
      "metadata": {
        "id": "OFGBJY2oJIsU",
        "colab_type": "code",
        "outputId": "092ffd61-3003-4500-9f4f-2a5f329cf7c9",
        "colab": {
          "base_uri": "https://localhost:8080/",
          "height": 34
        }
      },
      "source": [
        "res = 0.006\n",
        "lat = np.arange(Lats[0],Lats[-1],res)\n",
        "lon = np.arange(Lons[0],Lons[-1],res)\n",
        "\n",
        "print(\"....... Regridding\")\n",
        "finterp = interpolate.interp2d(Lons,Lats,sstFilt_HR, kind='cubic')\n",
        "sstHRi    = finterp(lon,lat)"
      ],
      "execution_count": 11,
      "outputs": [
        {
          "output_type": "stream",
          "text": [
            "....... Regridding\n"
          ],
          "name": "stdout"
        }
      ]
    },
    {
      "cell_type": "code",
      "metadata": {
        "id": "4xOqRoVHOELC",
        "colab_type": "code",
        "outputId": "8a70c83b-f84b-4d85-be67-d029a6376c6c",
        "colab": {
          "base_uri": "https://localhost:8080/",
          "height": 268
        }
      },
      "source": [
        "plt.figure()\n",
        "imgplot=plt.imshow(np.flipud(sstHRi))\n",
        "\n",
        "plt.colorbar()\n",
        "plt.show()\n"
      ],
      "execution_count": 12,
      "outputs": [
        {
          "output_type": "display_data",
          "data": {
            "image/png": "[encoded data removed]",
            "text/plain": [
              "<Figure size 432x288 with 2 Axes>"
            ]
          },
          "metadata": {
            "tags": [],
            "needs_background": "light"
          }
        }
      ]
    },
    {
      "cell_type": "code",
      "metadata": {
        "id": "g0pwbV94f3NT",
        "colab_type": "code",
        "colab": {
          "base_uri": "https://localhost:8080/",
          "height": 357
        },
        "outputId": "4ce6a63c-0b04-4357-e00c-97c1a1a0a1dd"
      },
      "source": [
        "print(\"....... Low-pass filtering\")\n",
        "IterScale  = 100\n",
        "sstLRi = lap_diffusionMask.lap_diffusionMask(sstHRi,IterScale,LamScale)\n",
        "\n",
        "IterScale  = 100\n",
        "if IterScale > 0 :\n",
        "    resLR = 0.1\n",
        "    latLR = np.arange(Lats[0],Lats[-1],resLR)\n",
        "    lonLR = np.arange(Lons[0],Lons[-1],resLR)\n",
        "    finterp = interpolate.interp2d(lon,lat,sstLRi, kind='cubic')\n",
        "    sstLRi  = finterp(lonLR,latLR)\n",
        "    \n",
        "    sstLRi = lap_diffusionMask.lap_diffusionMask(sstLRi,IterScale,LamScale)\n",
        "    finterp = interpolate.interp2d(lonLR,latLR,sstLRi, kind='cubic')\n",
        "    sstLRi  = finterp(lon,lat)\n",
        "\n",
        "\n",
        "\n",
        "plt.figure()\n",
        "imgplot=plt.imshow(np.flipud(sstLRi))\n",
        "imgplot.set_cmap('hot')\n",
        "plt.colorbar()\n",
        "plt.show()\n",
        "print(latLR)"
      ],
      "execution_count": 13,
      "outputs": [
        {
          "output_type": "stream",
          "text": [
            "....... Low-pass filtering\n"
          ],
          "name": "stdout"
        },
        {
          "output_type": "display_data",
          "data": {
            "image/png": "[encoded data removed]",
            "text/plain": [
              "<Figure size 432x288 with 2 Axes>"
            ]
          },
          "metadata": {
            "tags": [],
            "needs_background": "light"
          }
        },
        {
          "output_type": "stream",
          "text": [
            "[-50.  -49.9 -49.8 -49.7 -49.6 -49.5 -49.4 -49.3 -49.2 -49.1 -49.  -48.9\n",
            " -48.8 -48.7 -48.6 -48.5 -48.4 -48.3 -48.2 -48.1 -48.  -47.9 -47.8 -47.7\n",
            " -47.6 -47.5 -47.4 -47.3 -47.2 -47.1 -47.  -46.9 -46.8 -46.7 -46.6 -46.5\n",
            " -46.4 -46.3 -46.2 -46.1 -46. ]\n"
          ],
          "name": "stdout"
        }
      ]
    },
    {
      "cell_type": "code",
      "metadata": {
        "id": "cgOcnbJCggTA",
        "colab_type": "code",
        "outputId": "f7007958-3855-4614-84d9-b6070bf2ad48",
        "colab": {
          "base_uri": "https://localhost:8080/",
          "height": 286
        }
      },
      "source": [
        "psd1D1=compute_PSD1D(sstHRi)\n",
        "psd1D2=compute_PSD1D(sstLRi)\n",
        "psd1D3=compute_PSD1D(sstfield)\n",
        "plt.figure()\n",
        "plt.plot(np.arange(len(psd1D1)),psd1D1, 'b')\n",
        "plt.yscale(\"log\")\n",
        "plt.xscale(\"log\")\n",
        "plt.xlabel(\"frequency\")\n",
        "plt.ylabel(\"power\")\n",
        "\n",
        "plt.plot(np.arange(len(psd1D2)),psd1D2, 'g')\n",
        "plt.yscale(\"log\")\n",
        "plt.xscale(\"log\")\n",
        "\n",
        "plt.plot(np.arange(len(psd1D2)),psd1D2, 'g')\n",
        "plt.yscale(\"log\")\n",
        "plt.xscale(\"log\")\n"
      ],
      "execution_count": 14,
      "outputs": [
        {
          "output_type": "display_data",
          "data": {
            "image/png": "[encoded data removed]",
            "text/plain": [
              "<Figure size 432x288 with 1 Axes>"
            ]
          },
          "metadata": {
            "tags": [],
            "needs_background": "light"
          }
        }
      ]
    },
    {
      "cell_type": "code",
      "metadata": {
        "id": "z8Pv6ybUkaH8",
        "colab_type": "code",
        "outputId": "32d701bc-62b7-4f66-b41a-7b346ccdc32d",
        "colab": {
          "base_uri": "https://localhost:8080/",
          "height": 518
        }
      },
      "source": [
        "def GetHRData(I,IterScale,LamScale,res,Lats,Lons):\n",
        "  #....... Filtering fine-scale for regridding\n",
        "\n",
        "  if IterScale > 0:\n",
        "    sstFilt_HR = lap_diffusionMask.lap_diffusionMask(I,IterScale,LamScale)\n",
        "  else:\n",
        "    sstFilt_HR = I.copy()\n",
        "\n",
        "  \n",
        "  lat = np.arange(Lats[0],Lats[-1],res)\n",
        "  lon = np.arange(Lons[0],Lons[-1],res)\n",
        "\n",
        "  #....... Regridding\n",
        "  finterp = interpolate.interp2d(Lons,Lats,sstFilt_HR, kind='cubic')\n",
        "  sstHRi    = finterp(lon,lat)\n",
        "\n",
        "  return sstHRi\n",
        "\n",
        "def GetLRData(I,IterScale,LamScale,res,resLR,Lats,Lons):\n",
        "  sstLRi = lap_diffusionMask.lap_diffusionMask(I,IterScale,LamScale)\n",
        "  if IterScale > 0 :\n",
        "    lat = np.arange(Lats[0],Lats[-1],res)\n",
        "    lon = np.arange(Lons[0],Lons[-1],res)\n",
        "    latLR = np.arange(Lats[0],Lats[-1],resLR)\n",
        "    lonLR = np.arange(Lons[0],Lons[-1],resLR)\n",
        "    finterp = interpolate.interp2d(lon,lat,sstLRi, kind='cubic')\n",
        "    sstLRi  = finterp(lonLR,latLR)\n",
        "    \n",
        "    sstLRi = lap_diffusionMask.lap_diffusionMask(sstLRi,IterScale,LamScale)\n",
        "    finterp = interpolate.interp2d(lonLR,latLR,sstLRi, kind='cubic')\n",
        "    sstLRi  = finterp(lon,lat)\n",
        "\n",
        "  return sstLRi\n",
        "\n",
        "\n",
        "sstHRii=GetHRData(sstfield,100,0.2,0.06,Lats,Lons)\n",
        "plt.figure()\n",
        "imgplot=plt.imshow(np.flipud(sstHRii))\n",
        "imgplot.set_cmap('hot')\n",
        "plt.colorbar()\n",
        "plt.show()\n",
        "\n",
        "sstLRii=GetLRData(sstHRii,100,0.2,0.06,1,Lats,Lons)\n",
        "plt.figure()\n",
        "imgplot=plt.imshow(np.flipud(sstLRii))\n",
        "imgplot.set_cmap('hot')\n",
        "plt.colorbar()\n",
        "plt.show()\n"
      ],
      "execution_count": 15,
      "outputs": [
        {
          "output_type": "display_data",
          "data": {
            "image/png": "[encoded data removed]",
            "text/plain": [
              "<Figure size 432x288 with 2 Axes>"
            ]
          },
          "metadata": {
            "tags": [],
            "needs_background": "light"
          }
        },
        {
          "output_type": "display_data",
          "data": {
            "image/png": "[encoded data removed]",
            "text/plain": [
              "<Figure size 432x288 with 2 Axes>"
            ]
          },
          "metadata": {
            "tags": [],
            "needs_background": "light"
          }
        }
      ]
    },
    {
      "cell_type": "markdown",
      "metadata": {
        "id": "YLSTTznAxNo7",
        "colab_type": "text"
      },
      "source": [
        "## Preprocessing "
      ]
    },
    {
      "cell_type": "code",
      "metadata": {
        "id": "Z3-69I-uxQzP",
        "colab_type": "code",
        "outputId": "ea521523-6d25-4f4d-e008-34d9c38faeef",
        "colab": {
          "base_uri": "https://localhost:8080/",
          "height": 70
        }
      },
      "source": [
        "!pip install netcdf4"
      ],
      "execution_count": 140,
      "outputs": [
        {
          "output_type": "stream",
          "text": [
            "Requirement already satisfied: netcdf4 in /usr/local/lib/python3.6/dist-packages (1.5.3)\n",
            "Requirement already satisfied: cftime in /usr/local/lib/python3.6/dist-packages (from netcdf4) (1.1.2)\n",
            "Requirement already satisfied: numpy>=1.7 in /usr/local/lib/python3.6/dist-packages (from netcdf4) (1.18.4)\n"
          ],
          "name": "stdout"
        }
      ]
    },
    {
      "cell_type": "code",
      "metadata": {
        "id": "MCy7oCmsydq0",
        "colab_type": "code",
        "colab": {}
      },
      "source": [
        "import os\n",
        "from netCDF4 import Dataset\n",
        "import matplotlib.pyplot as plt\n",
        "import numpy as np\n",
        "from sklearn.utils import shuffle\n",
        "import torch\n",
        "import torchvision\n",
        "import torchvision.transforms as transforms\n",
        "import torch.nn as nn\n",
        "import torch.nn.functional as F\n",
        "import torch.optim as optim\n",
        "from sklearn.feature_extraction import image\n",
        "from netCDF4 import Dataset\n",
        "import numpy.ma as ma"
      ],
      "execution_count": 0,
      "outputs": []
    },
    {
      "cell_type": "code",
      "metadata": {
        "id": "S5gchFZMyj8W",
        "colab_type": "code",
        "outputId": "8fd5a07e-9201-4811-8a02-7b6bf77c6b9a",
        "colab": {
          "base_uri": "https://localhost:8080/",
          "height": 158
        }
      },
      "source": [
        "os.chdir('/content/drive/My Drive/')\n",
        "!pwd\n",
        "!ls /content/drive/My\\ Drive/CMEMSData"
      ],
      "execution_count": 142,
      "outputs": [
        {
          "output_type": "stream",
          "text": [
            "/content/drive/My Drive\n",
            "global-analysis-forecast-phy-001-024-201810.nc\n",
            "global-analysis-forecast-phy-001-024-201811.nc\n",
            "global-analysis-forecast-phy-001-024-201812.nc\n",
            "global-analysis-forecast-phy-001-024-201901.nc\n",
            "global-analysis-forecast-phy-001-024-201902.nc\n",
            "global-analysis-forecast-phy-001-024-201903.nc\n",
            "global-analysis-forecast-phy-001-024-201904.nc\n"
          ],
          "name": "stdout"
        }
      ]
    },
    {
      "cell_type": "code",
      "metadata": {
        "id": "gwrp75xtyrNO",
        "colab_type": "code",
        "outputId": "dbb8b8bc-c675-477e-f4d8-302cf133cbfe",
        "colab": {
          "base_uri": "https://localhost:8080/",
          "height": 176
        }
      },
      "source": [
        "X_train=[]\n",
        "Y_train=[]\n",
        "X_test=[]\n",
        "Y_test=[]\n",
        "Maskes=[]\n",
        "train_files=['global-analysis-forecast-phy-001-024-201812.nc','global-analysis-forecast-phy-001-024-201902.nc']\n",
        "test_files=['global-analysis-forecast-phy-001-024-201901.nc']\n",
        "\n",
        "# trainning data\n",
        "\n",
        "for f in train_files:\n",
        "  nc_data     = Dataset('./CMEMSData/'+f,'r')\n",
        "  ssh = nc_data['zos'][:,:,:]\n",
        "  sst = nc_data['thetao'][:,0,:,:]\n",
        "  for i in range(len(sst)):\n",
        "    X=np.flipud(sst[i,:,:]).data\n",
        "    Y=np.flipud(ssh[i,:,:]).data\n",
        "    XY_mask=np.flipud(ssh[i,:,:]).mask\n",
        "    X_patches=image.extract_patches_2d(X, (50, 50), max_patches= 100, random_state=0)\n",
        "    Y_patches=image.extract_patches_2d(Y, (50, 50), max_patches= 100, random_state=0)\n",
        "    Mask_patches=image.extract_patches_2d(XY_mask, (50, 50), max_patches= 100, random_state=0)\n",
        "\n",
        "    for j in range(len(X_patches)):\n",
        "      X_train.append(X_patches[j])\n",
        "      Y_train.append(Y_patches[j])\n",
        "      Maskes.append(Mask_patches[j])\n",
        "\n",
        "x_train=[]\n",
        "y_train=[]\n",
        "\n",
        "for i in range(len(X_train)):\n",
        "  if np.sum(Maskes[i]==True)==0:\n",
        "    x_train.append(X_train[i])\n",
        "    y_train.append(Y_train[i])\n",
        "\n",
        "print(len(x_train))\n",
        "print(len(y_train))\n",
        "\n",
        "#test data\n",
        "\n",
        "Maskes=[]\n",
        "for f in test_files:\n",
        "  nc_data     = Dataset('./CMEMSData/'+f,'r')\n",
        "  ssh = nc_data['zos'][:,:,:]\n",
        "  sst = nc_data['thetao'][:,0,:,:]\n",
        "  for i in range(len(sst)):\n",
        "    X=np.flipud(sst[i,:,:]).data\n",
        "    Y=np.flipud(ssh[i,:,:]).data\n",
        "    XY_mask=np.flipud(ssh[i,:,:]).mask\n",
        "    X_patches=image.extract_patches_2d(X, (50, 50), max_patches= 100, random_state=0)\n",
        "    Y_patches=image.extract_patches_2d(Y, (50, 50), max_patches= 100, random_state=0)\n",
        "    Mask_patches=image.extract_patches_2d(XY_mask, (50, 50), max_patches= 100, random_state=0)\n",
        "\n",
        "    for j in range(len(X_patches)):\n",
        "      X_test.append(X_patches[j])\n",
        "      Y_test.append(Y_patches[j])\n",
        "      Maskes.append(Mask_patches[j])\n",
        "\n",
        "x_test=[]\n",
        "y_test=[]\n",
        "\n",
        "for i in range(len(X_test)):\n",
        "  if np.sum(Maskes[i]==True)==0:\n",
        "    x_test.append(X_test[i])\n",
        "    y_test.append(Y_test[i])\n",
        "\n",
        "print(len(x_test))\n",
        "print(len(y_test))\n",
        "X=[x_train,x_test]\n",
        "Y=[y_train,y_test]\n",
        "Mx1=np.array([np.mean(x) for x in x_train]).mean()\n",
        "My1=np.array([np.mean(y) for y in y_train]).mean()\n",
        "Mx2=np.array([np.mean(x) for x in x_test]).mean()\n",
        "My2=np.array([np.mean(y) for y in y_test]).mean()\n",
        "print(Mx1)\n",
        "print(My1)\n",
        "print(Mx2)\n",
        "print(My2)\n",
        "\n",
        "#Moyenne non spacialisée\n",
        "\n",
        "x_train=np.array(x_train)\n",
        "y_train=np.array(y_train)\n",
        "x_test=np.array(x_test)\n",
        "y_test=np.array(y_test)\n",
        "\n",
        "x_train=x_train-Mx1\n",
        "y_train=y_train-My1\n",
        "x_test=x_test-Mx2\n",
        "y_test=y_test-My2\n",
        "\n",
        "\n",
        "x_train,y_train=shuffle(x_train,y_train, random_state=0)\n",
        "x_test,y_test=shuffle(x_test,y_test, random_state=0)\n",
        "\n",
        "\"\"\"\n",
        "x_train=torch.Tensor(x_train)\n",
        "y_train=torch.Tensor(y_train)\n",
        "x_test=torch.Tensor(x_test)\n",
        "y_test=torch.Tensor(y_test)\n",
        "\"\"\""
      ],
      "execution_count": 143,
      "outputs": [
        {
          "output_type": "stream",
          "text": [
            "5605\n",
            "5605\n",
            "2945\n",
            "2945\n",
            "15.594807103916969\n",
            "0.0060345840484668225\n",
            "15.615132012611205\n",
            "0.02577029756980937\n"
          ],
          "name": "stdout"
        },
        {
          "output_type": "execute_result",
          "data": {
            "text/plain": [
              "'\\nx_train=torch.Tensor(x_train)\\ny_train=torch.Tensor(y_train)\\nx_test=torch.Tensor(x_test)\\ny_test=torch.Tensor(y_test)\\n'"
            ]
          },
          "metadata": {
            "tags": []
          },
          "execution_count": 143
        }
      ]
    },
    {
      "cell_type": "code",
      "metadata": {
        "id": "8aV2Pu6Q16Z4",
        "colab_type": "code",
        "outputId": "73e7d219-40c5-4416-ae5c-27adebe32272",
        "colab": {
          "base_uri": "https://localhost:8080/",
          "height": 52
        }
      },
      "source": [
        "X_train=[]\n",
        "Y_train=[]\n",
        "X_test=[]\n",
        "Y_test=[]\n",
        "\n",
        "for i in range(len(x_train)):\n",
        "  X_train.append(GetHRData(x_train[i],100,0.2,0.06,Lats,Lons))\n",
        "  Y_train.append(GetHRData(y_train[i],100,0.2,0.06,Lats,Lons))\n",
        "print(\"...............done\")\n",
        "  \n",
        "\n",
        "for i in range(len(x_test)):\n",
        "  X_test.append(GetHRData(x_test[i],100,0.2,0.06,Lats,Lons))\n",
        "  Y_test.append(GetHRData(y_test[i],100,0.2,0.06,Lats,Lons))\n",
        "  \n",
        "print(\"...............done\")\n",
        "\n"
      ],
      "execution_count": 145,
      "outputs": [
        {
          "output_type": "stream",
          "text": [
            "...............done\n",
            "...............done\n"
          ],
          "name": "stdout"
        }
      ]
    },
    {
      "cell_type": "code",
      "metadata": {
        "id": "we2UKWvrZQco",
        "colab_type": "code",
        "outputId": "735b06fc-91e4-49be-ca06-83619b911895",
        "colab": {
          "base_uri": "https://localhost:8080/",
          "height": 87
        }
      },
      "source": [
        "print(np.array(X_train).shape)\n",
        "print(np.array(Y_train).shape)\n",
        "print(np.array(X_test).shape)\n",
        "print(np.array(Y_test).shape)\n"
      ],
      "execution_count": 146,
      "outputs": [
        {
          "output_type": "stream",
          "text": [
            "(5605, 69, 69)\n",
            "(5605, 69, 69)\n",
            "(2945, 69, 69)\n",
            "(2945, 69, 69)\n"
          ],
          "name": "stdout"
        }
      ]
    },
    {
      "cell_type": "code",
      "metadata": {
        "id": "D1SoeEuP2Ckt",
        "colab_type": "code",
        "outputId": "534bace1-b4c3-464f-a9e4-ef5007af31bb",
        "colab": {
          "base_uri": "https://localhost:8080/",
          "height": 267
        }
      },
      "source": [
        "plt.figure()\n",
        "imgplot=plt.imshow(Y_test[0])\n",
        "imgplot.set_cmap('hot')\n",
        "plt.colorbar()\n",
        "plt.show()"
      ],
      "execution_count": 147,
      "outputs": [
        {
          "output_type": "display_data",
          "data": {
            "image/png": "[encoded data removed]",
            "text/plain": [
              "<Figure size 432x288 with 2 Axes>"
            ]
          },
          "metadata": {
            "tags": [],
            "needs_background": "light"
          }
        }
      ]
    },
    {
      "cell_type": "code",
      "metadata": {
        "id": "LuLUGpKC_jKp",
        "colab_type": "code",
        "colab": {}
      },
      "source": [
        "del x_train, y_train, x_test, y_test, X_patches, Y_patches, Mask_patches\n"
      ],
      "execution_count": 0,
      "outputs": []
    },
    {
      "cell_type": "code",
      "metadata": {
        "id": "zPkLF-Eo-p-Q",
        "colab_type": "code",
        "colab": {}
      },
      "source": [
        "X_train=torch.Tensor(X_train)/10\n",
        "Y_train=torch.Tensor(Y_train)/2\n",
        "X_test=torch.Tensor(X_test)/10\n",
        "Y_test=torch.Tensor(Y_test)/2"
      ],
      "execution_count": 0,
      "outputs": []
    },
    {
      "cell_type": "code",
      "metadata": {
        "id": "2cJYaINs_wiu",
        "colab_type": "code",
        "colab": {}
      },
      "source": [
        "class Net(nn.Module):\n",
        "    def __init__(self):\n",
        "        super(Net, self).__init__()\n",
        "        self.conv1 = nn.Conv2d(1, 32, 3,padding= (2,2))\n",
        "        self.conv2 = nn.Conv2d(32, 32, 3,padding= (1,1))\n",
        "        self.conv3 = nn.Conv2d(32, 1, 3,padding= (0,0))\n",
        "    \n",
        "    def forward(self, x):\n",
        "      x=F.relu(self.conv1(x))\n",
        "      x=F.relu(self.conv2(x))\n",
        "      x=self.conv3(x)\n",
        "\n",
        "      return(x)\n",
        "net= Net()"
      ],
      "execution_count": 0,
      "outputs": []
    },
    {
      "cell_type": "code",
      "metadata": {
        "id": "iVBHPoX02m2f",
        "colab_type": "code",
        "colab": {}
      },
      "source": [
        ""
      ],
      "execution_count": 0,
      "outputs": []
    },
    {
      "cell_type": "code",
      "metadata": {
        "id": "rttrnJ3c_4Og",
        "colab_type": "code",
        "colab": {}
      },
      "source": [
        "lossfunction=nn.MSELoss()\n",
        "optimizer=optim.Adam(net.parameters(), lr=0.00001)"
      ],
      "execution_count": 0,
      "outputs": []
    },
    {
      "cell_type": "code",
      "metadata": {
        "id": "1nkxW3hk_8VD",
        "colab_type": "code",
        "outputId": "f4a1b944-7c67-4273-c142-db1abf98d2ce",
        "colab": {
          "base_uri": "https://localhost:8080/",
          "height": 372
        }
      },
      "source": [
        "epochs= 20\n",
        "batch_size= 500\n",
        "\n",
        "for i in range(epochs):\n",
        "  #running_loss=0 \n",
        "  \n",
        "  for j in range(0,len(X_train), batch_size):\n",
        "    X = X_train[j:j+batch_size].view(-1, 1, 69, 69)\n",
        "    Y = Y_train[j:j+batch_size].view(-1, 1, 69, 69)\n",
        "    optimizer.zero_grad()\n",
        "    outputs = net(X)\n",
        "    loss = lossfunction(outputs, Y)\n",
        "    loss.backward()\n",
        "    optimizer.step()\n",
        "    #running_loss+=loss.item()\n",
        "\n",
        "    if j==5000:\n",
        "      print(\"epoch=\",i,\"; running_loss=\", loss.item())"
      ],
      "execution_count": 152,
      "outputs": [
        {
          "output_type": "stream",
          "text": [
            "epoch= 0 ; running_loss= 0.02330235205590725\n",
            "epoch= 1 ; running_loss= 0.022458933293819427\n",
            "epoch= 2 ; running_loss= 0.021657943725585938\n",
            "epoch= 3 ; running_loss= 0.020908834412693977\n",
            "epoch= 4 ; running_loss= 0.020208273082971573\n",
            "epoch= 5 ; running_loss= 0.01954013668000698\n",
            "epoch= 6 ; running_loss= 0.018874285742640495\n",
            "epoch= 7 ; running_loss= 0.018222352489829063\n",
            "epoch= 8 ; running_loss= 0.017594341188669205\n",
            "epoch= 9 ; running_loss= 0.01701442338526249\n",
            "epoch= 10 ; running_loss= 0.016485612839460373\n",
            "epoch= 11 ; running_loss= 0.01599710062146187\n",
            "epoch= 12 ; running_loss= 0.015538127161562443\n",
            "epoch= 13 ; running_loss= 0.015077704563736916\n",
            "epoch= 14 ; running_loss= 0.014611391350626945\n",
            "epoch= 15 ; running_loss= 0.014156140387058258\n",
            "epoch= 16 ; running_loss= 0.013740547001361847\n",
            "epoch= 17 ; running_loss= 0.013366655446588993\n",
            "epoch= 18 ; running_loss= 0.013033364899456501\n",
            "epoch= 19 ; running_loss= 0.012730849906802177\n"
          ],
          "name": "stdout"
        }
      ]
    },
    {
      "cell_type": "code",
      "metadata": {
        "id": "pQ3Y_tGEAYjM",
        "colab_type": "code",
        "colab": {}
      },
      "source": [
        " outputs=net.forward(X_test.view(-1, 1, 69, 69))"
      ],
      "execution_count": 0,
      "outputs": []
    },
    {
      "cell_type": "code",
      "metadata": {
        "id": "d29IwE43OcD7",
        "colab_type": "code",
        "colab": {}
      },
      "source": [
        "outputs=outputs.view(-1,69,69)"
      ],
      "execution_count": 0,
      "outputs": []
    },
    {
      "cell_type": "code",
      "metadata": {
        "id": "BZYb-OSwro0Z",
        "colab_type": "code",
        "outputId": "2f13fa4f-29fb-4a83-e539-09fde5b8f1c9",
        "colab": {
          "base_uri": "https://localhost:8080/",
          "height": 34
        }
      },
      "source": [
        "X_train[6].max()"
      ],
      "execution_count": 155,
      "outputs": [
        {
          "output_type": "execute_result",
          "data": {
            "text/plain": [
              "tensor(0.1213)"
            ]
          },
          "metadata": {
            "tags": []
          },
          "execution_count": 155
        }
      ]
    },
    {
      "cell_type": "code",
      "metadata": {
        "id": "Wj0HnW4AQYh6",
        "colab_type": "code",
        "outputId": "96e510f0-de7c-411d-d819-3be160027e87",
        "colab": {
          "base_uri": "https://localhost:8080/",
          "height": 536
        }
      },
      "source": [
        "i=3\n",
        "plt.figure()\n",
        "plt.imshow(outputs[i].data)\n",
        "plt.colorbar()\n",
        "\n",
        "plt.figure()\n",
        "plt.imshow(Y_test[i])\n",
        "plt.colorbar()\n",
        "\n",
        "loss_fn = nn.MSELoss()\n",
        "MSE=loss_fn(outputs[i].data,Y_test[i])\n",
        "print(MSE)\n"
      ],
      "execution_count": 159,
      "outputs": [
        {
          "output_type": "stream",
          "text": [
            "tensor(0.0298)\n"
          ],
          "name": "stdout"
        },
        {
          "output_type": "display_data",
          "data": {
            "image/png": "[encoded data removed]",
            "text/plain": [
              "<Figure size 432x288 with 2 Axes>"
            ]
          },
          "metadata": {
            "tags": [],
            "needs_background": "light"
          }
        },
        {
          "output_type": "display_data",
          "data": {
            "image/png": "[encoded data removed]",
            "text/plain": [
              "<Figure size 432x288 with 2 Axes>"
            ]
          },
          "metadata": {
            "tags": [],
            "needs_background": "light"
          }
        }
      ]
    },
    {
      "cell_type": "code",
      "metadata": {
        "id": "FW6ouIK_QqZg",
        "colab_type": "code",
        "outputId": "1b9056fa-dd62-4504-8b4e-984fcd7b7de7",
        "colab": {
          "base_uri": "https://localhost:8080/",
          "height": 34
        }
      },
      "source": [
        "\n",
        "MSE=loss_fn(outputs.data,Y_test)\n",
        "eff=1-MSE/Y_test.var()\n",
        "print(\"efficience: \", float(eff.data))"
      ],
      "execution_count": 157,
      "outputs": [
        {
          "output_type": "stream",
          "text": [
            "efficience:  0.7500894069671631\n"
          ],
          "name": "stdout"
        }
      ]
    },
    {
      "cell_type": "markdown",
      "metadata": {
        "id": "WvXJ2TU2wgEw",
        "colab_type": "text"
      },
      "source": [
        "## Evaluation par le laplacien\n",
        "\n",
        "\n",
        "\n"
      ]
    },
    {
      "cell_type": "code",
      "metadata": {
        "id": "-YZ9EajzQ3ar",
        "colab_type": "code",
        "outputId": "4533afa8-4204-4f9c-f7ae-a441468cc9f0",
        "colab": {
          "base_uri": "https://localhost:8080/",
          "height": 34
        }
      },
      "source": [
        "from scipy.sparse import csgraph\n",
        "\n",
        "output_laplacian= []\n",
        "test_laplacian= []\n",
        "for i in range(len(Y_test)):\n",
        "  output_laplacian.append(csgraph.laplacian(outputs.data[i]))\n",
        "  test_laplacian.append(csgraph.laplacian(Y_test[i]))\n",
        "output_laplacian= torch.Tensor(output_laplacian)\n",
        "test_laplacian= torch.Tensor(test_laplacian)\n",
        "\n",
        "\n",
        "MSE=loss_fn(output_laplacian, test_laplacian)\n",
        "eff=1-MSE/test_laplacian.var()\n",
        "print(\"lapalacian_efficience: \", float(eff))"
      ],
      "execution_count": 158,
      "outputs": [
        {
          "output_type": "stream",
          "text": [
            "lapalacian_efficience:  0.819929301738739\n"
          ],
          "name": "stdout"
        }
      ]
    },
    {
      "cell_type": "code",
      "metadata": {
        "id": "2VnhUbXcGjY0",
        "colab_type": "code",
        "colab": {}
      },
      "source": [
        ""
      ],
      "execution_count": 0,
      "outputs": []
    }
  ]
}